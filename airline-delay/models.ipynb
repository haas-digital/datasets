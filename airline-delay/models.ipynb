{
 "cells": [
  {
   "cell_type": "markdown",
   "metadata": {},
   "source": [
    "# Sample Models"
   ]
  },
  {
   "cell_type": "code",
   "execution_count": 1,
   "metadata": {},
   "outputs": [
    {
     "name": "stderr",
     "output_type": "stream",
     "text": [
      "/Users/split/anaconda3/lib/python3.7/site-packages/pandas/compat/_optional.py:138: UserWarning: Pandas requires version '2.7.0' or newer of 'numexpr' (version '2.6.9' currently installed).\n",
      "  warnings.warn(msg, UserWarning)\n"
     ]
    }
   ],
   "source": [
    "import pandas as pd\n",
    "import numpy as np\n",
    "\n",
    "import matplotlib.pyplot as plt\n",
    "import seaborn as sns\n",
    "\n",
    "from sklearn.model_selection import train_test_split\n",
    "from sklearn.linear_model import LinearRegression, Lasso, LassoCV, Ridge, RidgeCV\n",
    "from sklearn.metrics import mean_squared_error\n",
    "\n",
    "RANDOM_SEED = 1"
   ]
  },
  {
   "cell_type": "code",
   "execution_count": 22,
   "metadata": {},
   "outputs": [],
   "source": [
    "df = pd.read_csv('airline_delays.csv')\n",
    "\n",
    "# drop arr_del15 - indicates if a flight was late (arrives 15 mins after CRS time)\n",
    "# for classification task, use arr_del15\n",
    "x_cols = df.drop(columns=['arr_del15', 'arr_delay']).columns"
   ]
  },
  {
   "cell_type": "code",
   "execution_count": 23,
   "metadata": {},
   "outputs": [
    {
     "data": {
      "text/plain": [
       "Index(['year', 'month', 'day_of_month', 'day_of_week', 'crs_dep_time',\n",
       "       'dep_delay', 'dep_del15', 'taxi_out', 'taxi_in', 'crs_arr_time',\n",
       "       'arr_delay', 'arr_del15', 'crs_elapsed_time', 'distance', 'origin_ca',\n",
       "       'is_weekday', 'external_cause', 'max_temp', 'min_temp', 'avg_temp',\n",
       "       'precip', 'avg_wind_spd', 'wsf2', 'fog', 'haze'],\n",
       "      dtype='object')"
      ]
     },
     "execution_count": 23,
     "metadata": {},
     "output_type": "execute_result"
    }
   ],
   "source": [
    "df.columns"
   ]
  },
  {
   "cell_type": "code",
   "execution_count": 24,
   "metadata": {},
   "outputs": [],
   "source": [
    "X_train, X_test, y_train, y_test = train_test_split(\n",
    "    df[x_cols],\n",
    "    df['arr_delay'],\n",
    "    test_size=.25,\n",
    "    random_state=RANDOM_SEED\n",
    ")"
   ]
  },
  {
   "cell_type": "markdown",
   "metadata": {},
   "source": [
    "## Linear Regression"
   ]
  },
  {
   "cell_type": "code",
   "execution_count": 25,
   "metadata": {},
   "outputs": [
    {
     "data": {
      "text/plain": [
       "LinearRegression()"
      ]
     },
     "execution_count": 25,
     "metadata": {},
     "output_type": "execute_result"
    }
   ],
   "source": [
    "lm = LinearRegression(fit_intercept=True)\n",
    "lm.fit(X_train, y_train)"
   ]
  },
  {
   "cell_type": "code",
   "execution_count": 26,
   "metadata": {},
   "outputs": [
    {
     "data": {
      "text/plain": [
       "0.9436316553776531"
      ]
     },
     "execution_count": 26,
     "metadata": {},
     "output_type": "execute_result"
    }
   ],
   "source": [
    "lm.score(X_test, y_test)"
   ]
  },
  {
   "cell_type": "code",
   "execution_count": 27,
   "metadata": {},
   "outputs": [
    {
     "data": {
      "text/plain": [
       "85.28318596899868"
      ]
     },
     "execution_count": 27,
     "metadata": {},
     "output_type": "execute_result"
    }
   ],
   "source": [
    "mean_squared_error(y_test, lm.predict(X_test))"
   ]
  },
  {
   "cell_type": "code",
   "execution_count": 28,
   "metadata": {},
   "outputs": [
    {
     "data": {
      "text/plain": [
       "year                -1.670231\n",
       "month               -0.159188\n",
       "day_of_month         0.024959\n",
       "day_of_week          0.156096\n",
       "crs_dep_time        -0.001660\n",
       "dep_delay            0.958752\n",
       "taxi_out             0.905412\n",
       "taxi_in              0.703889\n",
       "crs_arr_time         0.000957\n",
       "crs_elapsed_time    -0.384672\n",
       "distance             0.043335\n",
       "origin_ca           -3.096430\n",
       "is_weekday           0.757055\n",
       "external_cause       7.039264\n",
       "max_temp            -0.150839\n",
       "min_temp            -0.025297\n",
       "avg_temp             0.083077\n",
       "precip              14.348275\n",
       "avg_wind_spd         0.017874\n",
       "wsf2                 0.024720\n",
       "fog                  0.239446\n",
       "haze                -0.053104\n",
       "dtype: float64"
      ]
     },
     "execution_count": 28,
     "metadata": {},
     "output_type": "execute_result"
    }
   ],
   "source": [
    "pd.Series(lm.coef_, index=x_cols)"
   ]
  },
  {
   "cell_type": "markdown",
   "metadata": {},
   "source": [
    "#### Checking residuals"
   ]
  },
  {
   "cell_type": "code",
   "execution_count": 29,
   "metadata": {},
   "outputs": [
    {
     "name": "stdout",
     "output_type": "stream",
     "text": [
      "mean: 0.07664027496421752\n",
      "sum: 1919.7622475786848\n"
     ]
    },
    {
     "data": {
      "image/png": "[encoded data removed]",
      "text/plain": [
       "<Figure size 432x288 with 1 Axes>"
      ]
     },
     "metadata": {
      "needs_background": "light"
     },
     "output_type": "display_data"
    }
   ],
   "source": [
    "residuals = y_test - lm.predict(X_test)\n",
    "\n",
    "print('mean:', np.mean(residuals))\n",
    "print('sum:', np.sum(residuals))\n",
    "\n",
    "sns.scatterplot(lm.predict(X_test), residuals);"
   ]
  },
  {
   "cell_type": "markdown",
   "metadata": {},
   "source": [
    "----\n",
    "## Ridge Regression"
   ]
  },
  {
   "cell_type": "code",
   "execution_count": 10,
   "metadata": {},
   "outputs": [],
   "source": [
    "alphas = 10**np.linspace(10,0,num=50)*0.5"
   ]
  },
  {
   "cell_type": "code",
   "execution_count": 11,
   "metadata": {},
   "outputs": [
    {
     "data": {
      "text/plain": [
       "Ridge(random_state=1)"
      ]
     },
     "execution_count": 11,
     "metadata": {},
     "output_type": "execute_result"
    }
   ],
   "source": [
    "ridge = Ridge(fit_intercept=True, random_state=RANDOM_SEED)\n",
    "\n",
    "ridge.fit(X_train, y_train)"
   ]
  },
  {
   "cell_type": "code",
   "execution_count": 12,
   "metadata": {},
   "outputs": [
    {
     "data": {
      "text/plain": [
       "0.9459886519505721"
      ]
     },
     "execution_count": 12,
     "metadata": {},
     "output_type": "execute_result"
    }
   ],
   "source": [
    "ridge.score(X_test, y_test)"
   ]
  },
  {
   "cell_type": "code",
   "execution_count": 13,
   "metadata": {},
   "outputs": [
    {
     "data": {
      "text/plain": [
       "81.71713877702811"
      ]
     },
     "execution_count": 13,
     "metadata": {},
     "output_type": "execute_result"
    }
   ],
   "source": [
    "mean_squared_error(y_test, ridge.predict(X_test))"
   ]
  },
  {
   "cell_type": "code",
   "execution_count": 14,
   "metadata": {},
   "outputs": [
    {
     "data": {
      "text/plain": [
       "year                -1.100290\n",
       "month               -0.102489\n",
       "day_of_month         0.026448\n",
       "day_of_week          0.150661\n",
       "crs_dep_time        -0.001463\n",
       "dep_delay            0.977079\n",
       "dep_del15           -8.678553\n",
       "taxi_out             0.852845\n",
       "taxi_in              0.668045\n",
       "crs_arr_time         0.001000\n",
       "crs_elapsed_time    -0.376919\n",
       "distance             0.042504\n",
       "origin_ca           -3.144716\n",
       "is_weekday           0.697816\n",
       "external_cause      12.297375\n",
       "max_temp            -0.149113\n",
       "min_temp            -0.010770\n",
       "avg_temp             0.079470\n",
       "precip              13.791513\n",
       "avg_wind_spd         0.027098\n",
       "wsf2                 0.018869\n",
       "fog                  0.246394\n",
       "haze                -0.063867\n",
       "dtype: float64"
      ]
     },
     "execution_count": 14,
     "metadata": {},
     "output_type": "execute_result"
    }
   ],
   "source": [
    "pd.Series(ridge.coef_, index=x_cols)"
   ]
  },
  {
   "cell_type": "code",
   "execution_count": 15,
   "metadata": {},
   "outputs": [
    {
     "data": {
      "text/plain": [
       "RidgeCV(alphas=array([5.00000000e+09, 3.12527596e+09, 1.95346997e+09, 1.22102655e+09,\n",
       "       7.63208984e+08, 4.77047738e+08, 2.98181166e+08, 1.86379686e+08,\n",
       "       1.16497591e+08, 7.28174239e+07, 4.55149089e+07, 2.84493301e+07,\n",
       "       1.77824015e+07, 1.11149824e+07, 6.94747747e+06, 4.34255687e+06,\n",
       "       2.71433772e+06, 1.69661089e+06, 1.06047544e+06, 6.62855683e+05,\n",
       "       4.14321386e+05, 2.58973734e+0...\n",
       "       9.65348864e+03, 6.03396320e+03, 3.77156003e+03, 2.35743318e+03,\n",
       "       1.47352585e+03, 9.21034985e+02, 5.75697700e+02, 3.59842837e+02,\n",
       "       2.24921633e+02, 1.40588435e+02, 8.78755312e+01, 5.49270571e+01,\n",
       "       3.43324423e+01, 2.14596713e+01, 1.34134790e+01, 8.38416468e+00,\n",
       "       5.24056567e+00, 3.27564278e+00, 2.04745753e+00, 1.27977396e+00,\n",
       "       7.99929360e-01, 5.00000000e-01]),\n",
       "        cv=10, scoring='neg_mean_squared_error')"
      ]
     },
     "execution_count": 15,
     "metadata": {},
     "output_type": "execute_result"
    }
   ],
   "source": [
    "# Ridge regression w/ cross validation\n",
    "ridgecv = RidgeCV(\n",
    "    alphas=alphas,\n",
    "    scoring='neg_mean_squared_error',\n",
    "    fit_intercept=True,\n",
    "    cv=10\n",
    ")\n",
    "ridgecv.fit(X_train, y_train)"
   ]
  },
  {
   "cell_type": "code",
   "execution_count": 16,
   "metadata": {},
   "outputs": [
    {
     "data": {
      "text/plain": [
       "Ridge(alpha=0.5)"
      ]
     },
     "execution_count": 16,
     "metadata": {},
     "output_type": "execute_result"
    }
   ],
   "source": [
    "ridge2 = Ridge(alpha=ridgecv.alpha_, fit_intercept=True)\n",
    "ridge2.fit(X_train, y_train)"
   ]
  },
  {
   "cell_type": "code",
   "execution_count": 17,
   "metadata": {},
   "outputs": [
    {
     "data": {
      "text/plain": [
       "0.9459888616912955"
      ]
     },
     "execution_count": 17,
     "metadata": {},
     "output_type": "execute_result"
    }
   ],
   "source": [
    "ridge2.score(X_test, y_test)"
   ]
  },
  {
   "cell_type": "code",
   "execution_count": 18,
   "metadata": {},
   "outputs": [
    {
     "data": {
      "text/plain": [
       "81.7168214471999"
      ]
     },
     "execution_count": 18,
     "metadata": {},
     "output_type": "execute_result"
    }
   ],
   "source": [
    "mean_squared_error(y_test, ridge2.predict(X_test))"
   ]
  },
  {
   "cell_type": "code",
   "execution_count": 19,
   "metadata": {},
   "outputs": [
    {
     "data": {
      "text/plain": [
       "year                -1.100242\n",
       "month               -0.102423\n",
       "day_of_month         0.026442\n",
       "day_of_week          0.150662\n",
       "crs_dep_time        -0.001463\n",
       "dep_delay            0.977079\n",
       "dep_del15           -8.681004\n",
       "taxi_out             0.852815\n",
       "taxi_in              0.668021\n",
       "crs_arr_time         0.001000\n",
       "crs_elapsed_time    -0.376915\n",
       "distance             0.042504\n",
       "origin_ca           -3.144878\n",
       "is_weekday           0.697705\n",
       "external_cause      12.300081\n",
       "max_temp            -0.149035\n",
       "min_temp            -0.010754\n",
       "avg_temp             0.079401\n",
       "precip              13.813876\n",
       "avg_wind_spd         0.027232\n",
       "wsf2                 0.018781\n",
       "fog                  0.245659\n",
       "haze                -0.063996\n",
       "dtype: float64"
      ]
     },
     "execution_count": 19,
     "metadata": {},
     "output_type": "execute_result"
    }
   ],
   "source": [
    "pd.Series(ridge2.coef_, index=x_cols)"
   ]
  },
  {
   "cell_type": "markdown",
   "metadata": {},
   "source": [
    "#### Checking residuals"
   ]
  },
  {
   "cell_type": "code",
   "execution_count": 20,
   "metadata": {},
   "outputs": [
    {
     "name": "stdout",
     "output_type": "stream",
     "text": [
      "mean: 0.08284186110662341\n",
      "sum: 2075.10577885981\n"
     ]
    },
    {
     "data": {
      "text/plain": [
       "<matplotlib.axes._subplots.AxesSubplot at 0x7fef8b235588>"
      ]
     },
     "execution_count": 20,
     "metadata": {},
     "output_type": "execute_result"
    },
    {
     "data": {
      "image/png": "[encoded data removed]",
      "text/plain": [
       "<Figure size 432x288 with 1 Axes>"
      ]
     },
     "metadata": {
      "needs_background": "light"
     },
     "output_type": "display_data"
    }
   ],
   "source": [
    "residuals = y_test - ridge2.predict(X_test)\n",
    "print('mean:', np.mean(residuals))\n",
    "print('sum:', np.sum(residuals))\n",
    "\n",
    "sns.scatterplot(ridge2.predict(X_test), residuals)"
   ]
  },
  {
   "cell_type": "markdown",
   "metadata": {},
   "source": [
    "---\n",
    "\n",
    "## Lasso"
   ]
  },
  {
   "cell_type": "code",
   "execution_count": 236,
   "metadata": {},
   "outputs": [
    {
     "data": {
      "image/png": "[encoded data removed]",
      "text/plain": [
       "<Figure size 432x288 with 1 Axes>"
      ]
     },
     "metadata": {
      "needs_background": "light"
     },
     "output_type": "display_data"
    }
   ],
   "source": [
    "lasso = Lasso(max_iter=10000, fit_intercept=True, random_state=RANDOM_SEED)\n",
    "\n",
    "coefs = []\n",
    "\n",
    "for a in alphas:\n",
    "    lasso.set_params(alpha=a)\n",
    "    lasso.fit(X_train, y_train)\n",
    "    coefs.append(lasso.coef_)\n",
    "    \n",
    "ax = plt.gca()\n",
    "ax.plot(alphas, coefs)\n",
    "ax.set_xscale('log')\n",
    "plt.axis('tight')\n",
    "plt.xlabel('alpha')\n",
    "plt.ylabel('weights');"
   ]
  },
  {
   "cell_type": "code",
   "execution_count": 237,
   "metadata": {},
   "outputs": [
    {
     "data": {
      "text/plain": [
       "LassoCV(cv=10, max_iter=10000, random_state=1)"
      ]
     },
     "execution_count": 237,
     "metadata": {},
     "output_type": "execute_result"
    }
   ],
   "source": [
    "lassocv = LassoCV(\n",
    "    alphas=None, \n",
    "    cv=10, \n",
    "    max_iter=10000, \n",
    "    fit_intercept=True, \n",
    "    random_state=RANDOM_SEED\n",
    ")\n",
    "\n",
    "lassocv.fit(X_train, y_train)"
   ]
  },
  {
   "cell_type": "code",
   "execution_count": 238,
   "metadata": {},
   "outputs": [
    {
     "data": {
      "text/plain": [
       "Lasso(alpha=1.4413645974313765, max_iter=10000, random_state=1)"
      ]
     },
     "execution_count": 238,
     "metadata": {},
     "output_type": "execute_result"
    }
   ],
   "source": [
    "# assign cross-validated alpha value to the initial lasso model\n",
    "lasso.set_params(alpha=lassocv.alpha_)\n",
    "lasso.fit(X_train, y_train)"
   ]
  },
  {
   "cell_type": "code",
   "execution_count": 239,
   "metadata": {},
   "outputs": [
    {
     "data": {
      "text/plain": [
       "0.9390689033997178"
      ]
     },
     "execution_count": 239,
     "metadata": {},
     "output_type": "execute_result"
    }
   ],
   "source": [
    "lasso.score(X_test, y_test)"
   ]
  },
  {
   "cell_type": "code",
   "execution_count": 240,
   "metadata": {},
   "outputs": [
    {
     "data": {
      "text/plain": [
       "92.18645815255697"
      ]
     },
     "execution_count": 240,
     "metadata": {},
     "output_type": "execute_result"
    }
   ],
   "source": [
    "mean_squared_error(y_test, lasso.predict(X_test))"
   ]
  },
  {
   "cell_type": "code",
   "execution_count": 241,
   "metadata": {},
   "outputs": [
    {
     "data": {
      "text/plain": [
       "year               -0.000000\n",
       "month              -0.000000\n",
       "day_of_month        0.002255\n",
       "day_of_week         0.000000\n",
       "crs_dep_time       -0.001291\n",
       "dep_delay           0.986009\n",
       "taxi_out            0.949764\n",
       "taxi_in             0.614927\n",
       "crs_arr_time        0.001044\n",
       "crs_elapsed_time   -0.368919\n",
       "distance            0.042189\n",
       "origin_ca          -0.000000\n",
       "is_weekday          0.000000\n",
       "external_cause      0.000000\n",
       "max_temp           -0.118606\n",
       "min_temp           -0.000000\n",
       "avg_temp           -0.000000\n",
       "precip              0.000000\n",
       "avg_wind_spd        0.000000\n",
       "wsf2                0.008484\n",
       "fog                 0.000000\n",
       "haze                0.000000\n",
       "dtype: float64"
      ]
     },
     "execution_count": 241,
     "metadata": {},
     "output_type": "execute_result"
    }
   ],
   "source": [
    "pd.Series(lasso.coef_, index=x_cols)"
   ]
  },
  {
   "cell_type": "code",
   "execution_count": 242,
   "metadata": {},
   "outputs": [
    {
     "name": "stdout",
     "output_type": "stream",
     "text": [
      "mean: 0.09282923722747621\n",
      "sum: 2325.279563311059\n"
     ]
    },
    {
     "data": {
      "text/plain": [
       "<matplotlib.axes._subplots.AxesSubplot at 0x7fbb264e04e0>"
      ]
     },
     "execution_count": 242,
     "metadata": {},
     "output_type": "execute_result"
    },
    {
     "data": {
      "image/png": "[encoded data removed]",
      "text/plain": [
       "<Figure size 432x288 with 1 Axes>"
      ]
     },
     "metadata": {
      "needs_background": "light"
     },
     "output_type": "display_data"
    }
   ],
   "source": [
    "residuals = y_test - lasso.predict(X_test)\n",
    "print('mean:', np.mean(residuals))\n",
    "print('sum:', np.sum(residuals))\n",
    "\n",
    "sns.scatterplot(lasso.predict(X_test), residuals)"
   ]
  },
  {
   "cell_type": "code",
   "execution_count": null,
   "metadata": {},
   "outputs": [],
   "source": []
  }
 ],
 "metadata": {
  "kernelspec": {
   "display_name": "Python 3",
   "language": "python",
   "name": "python3"
  },
  "language_info": {
   "codemirror_mode": {
    "name": "ipython",
    "version": 3
   },
   "file_extension": ".py",
   "mimetype": "text/x-python",
   "name": "python",
   "nbconvert_exporter": "python",
   "pygments_lexer": "ipython3",
   "version": "3.7.3"
  }
 },
 "nbformat": 4,
 "nbformat_minor": 4
}
