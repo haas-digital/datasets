{
 "cells": [
  {
   "cell_type": "markdown",
   "metadata": {},
   "source": [
    "# Hotel Bookings Dataset - Sample Models"
   ]
  },
  {
   "cell_type": "code",
   "execution_count": 45,
   "metadata": {},
   "outputs": [],
   "source": [
    "import pandas as pd\n",
    "import numpy as np\n",
    "\n",
    "from matplotlib.pyplot import figure\n",
    "\n",
    "from sklearn import tree\n",
    "from sklearn.ensemble import RandomForestClassifier\n",
    "from sklearn.tree import DecisionTreeClassifier\n",
    "from sklearn.model_selection import train_test_split\n",
    "from sklearn.metrics import confusion_matrix"
   ]
  },
  {
   "cell_type": "markdown",
   "metadata": {},
   "source": [
    "## Models Using H1"
   ]
  },
  {
   "cell_type": "code",
   "execution_count": 89,
   "metadata": {},
   "outputs": [],
   "source": [
    "h1 = pd.read_csv('h1_s.csv')"
   ]
  },
  {
   "cell_type": "code",
   "execution_count": 90,
   "metadata": {},
   "outputs": [
    {
     "data": {
      "text/plain": [
       "Index(['IsCanceled', 'LeadTime', 'ArrivalDateYear', 'ArrivalDateMonth',\n",
       "       'ArrivalDateWeekNumber', 'ArrivalDateDayOfMonth',\n",
       "       'StaysInWeekendNights', 'StaysInWeekNights', 'Adults', 'Children',\n",
       "       'Babies', 'Meal', 'IsRepeatedGuest', 'PreviousCancellations',\n",
       "       'PreviousBookingsNotCanceled', 'BookingChanges', 'Agent', 'Company',\n",
       "       'DaysInWaitingList', 'ADR', 'RequiredCarParkingSpaces',\n",
       "       'TotalOfSpecialRequests', 'Corporate', 'Direct', 'TA/TO', 'Deposit',\n",
       "       'RoomTypeDifference', 'Contract', 'Group', 'Transient',\n",
       "       'Transient-Party'],\n",
       "      dtype='object')"
      ]
     },
     "execution_count": 90,
     "metadata": {},
     "output_type": "execute_result"
    }
   ],
   "source": [
    "h1.columns"
   ]
  },
  {
   "cell_type": "code",
   "execution_count": 91,
   "metadata": {},
   "outputs": [
    {
     "data": {
      "text/html": [
       "<div>\n",
       "<style scoped>\n",
       "    .dataframe tbody tr th:only-of-type {\n",
       "        vertical-align: middle;\n",
       "    }\n",
       "\n",
       "    .dataframe tbody tr th {\n",
       "        vertical-align: top;\n",
       "    }\n",
       "\n",
       "    .dataframe thead th {\n",
       "        text-align: right;\n",
       "    }\n",
       "</style>\n",
       "<table border=\"1\" class=\"dataframe\">\n",
       "  <thead>\n",
       "    <tr style=\"text-align: right;\">\n",
       "      <th></th>\n",
       "      <th>IsCanceled</th>\n",
       "      <th>LeadTime</th>\n",
       "      <th>ArrivalDateYear</th>\n",
       "      <th>ArrivalDateMonth</th>\n",
       "      <th>ArrivalDateWeekNumber</th>\n",
       "      <th>ArrivalDateDayOfMonth</th>\n",
       "      <th>StaysInWeekendNights</th>\n",
       "      <th>StaysInWeekNights</th>\n",
       "      <th>Adults</th>\n",
       "      <th>Children</th>\n",
       "      <th>...</th>\n",
       "      <th>TotalOfSpecialRequests</th>\n",
       "      <th>Corporate</th>\n",
       "      <th>Direct</th>\n",
       "      <th>TA/TO</th>\n",
       "      <th>Deposit</th>\n",
       "      <th>RoomTypeDifference</th>\n",
       "      <th>Contract</th>\n",
       "      <th>Group</th>\n",
       "      <th>Transient</th>\n",
       "      <th>Transient-Party</th>\n",
       "    </tr>\n",
       "  </thead>\n",
       "  <tbody>\n",
       "    <tr>\n",
       "      <th>0</th>\n",
       "      <td>1</td>\n",
       "      <td>72</td>\n",
       "      <td>2016</td>\n",
       "      <td>December</td>\n",
       "      <td>53</td>\n",
       "      <td>30</td>\n",
       "      <td>1</td>\n",
       "      <td>2</td>\n",
       "      <td>2</td>\n",
       "      <td>0</td>\n",
       "      <td>...</td>\n",
       "      <td>0</td>\n",
       "      <td>0</td>\n",
       "      <td>1</td>\n",
       "      <td>0</td>\n",
       "      <td>0</td>\n",
       "      <td>0</td>\n",
       "      <td>0</td>\n",
       "      <td>0</td>\n",
       "      <td>1</td>\n",
       "      <td>0</td>\n",
       "    </tr>\n",
       "    <tr>\n",
       "      <th>1</th>\n",
       "      <td>0</td>\n",
       "      <td>2</td>\n",
       "      <td>2017</td>\n",
       "      <td>February</td>\n",
       "      <td>8</td>\n",
       "      <td>23</td>\n",
       "      <td>0</td>\n",
       "      <td>2</td>\n",
       "      <td>3</td>\n",
       "      <td>0</td>\n",
       "      <td>...</td>\n",
       "      <td>0</td>\n",
       "      <td>0</td>\n",
       "      <td>0</td>\n",
       "      <td>1</td>\n",
       "      <td>0</td>\n",
       "      <td>1</td>\n",
       "      <td>0</td>\n",
       "      <td>0</td>\n",
       "      <td>0</td>\n",
       "      <td>1</td>\n",
       "    </tr>\n",
       "    <tr>\n",
       "      <th>2</th>\n",
       "      <td>0</td>\n",
       "      <td>126</td>\n",
       "      <td>2016</td>\n",
       "      <td>September</td>\n",
       "      <td>38</td>\n",
       "      <td>16</td>\n",
       "      <td>2</td>\n",
       "      <td>5</td>\n",
       "      <td>2</td>\n",
       "      <td>0</td>\n",
       "      <td>...</td>\n",
       "      <td>0</td>\n",
       "      <td>0</td>\n",
       "      <td>0</td>\n",
       "      <td>1</td>\n",
       "      <td>0</td>\n",
       "      <td>0</td>\n",
       "      <td>0</td>\n",
       "      <td>0</td>\n",
       "      <td>1</td>\n",
       "      <td>0</td>\n",
       "    </tr>\n",
       "    <tr>\n",
       "      <th>3</th>\n",
       "      <td>1</td>\n",
       "      <td>122</td>\n",
       "      <td>2016</td>\n",
       "      <td>May</td>\n",
       "      <td>22</td>\n",
       "      <td>27</td>\n",
       "      <td>0</td>\n",
       "      <td>1</td>\n",
       "      <td>2</td>\n",
       "      <td>0</td>\n",
       "      <td>...</td>\n",
       "      <td>2</td>\n",
       "      <td>0</td>\n",
       "      <td>0</td>\n",
       "      <td>1</td>\n",
       "      <td>0</td>\n",
       "      <td>0</td>\n",
       "      <td>0</td>\n",
       "      <td>0</td>\n",
       "      <td>1</td>\n",
       "      <td>0</td>\n",
       "    </tr>\n",
       "    <tr>\n",
       "      <th>4</th>\n",
       "      <td>0</td>\n",
       "      <td>0</td>\n",
       "      <td>2015</td>\n",
       "      <td>December</td>\n",
       "      <td>49</td>\n",
       "      <td>3</td>\n",
       "      <td>0</td>\n",
       "      <td>1</td>\n",
       "      <td>2</td>\n",
       "      <td>0</td>\n",
       "      <td>...</td>\n",
       "      <td>1</td>\n",
       "      <td>0</td>\n",
       "      <td>1</td>\n",
       "      <td>0</td>\n",
       "      <td>0</td>\n",
       "      <td>1</td>\n",
       "      <td>0</td>\n",
       "      <td>0</td>\n",
       "      <td>1</td>\n",
       "      <td>0</td>\n",
       "    </tr>\n",
       "  </tbody>\n",
       "</table>\n",
       "<p>5 rows × 31 columns</p>\n",
       "</div>"
      ],
      "text/plain": [
       "   IsCanceled  LeadTime  ArrivalDateYear ArrivalDateMonth  \\\n",
       "0           1        72             2016         December   \n",
       "1           0         2             2017         February   \n",
       "2           0       126             2016        September   \n",
       "3           1       122             2016              May   \n",
       "4           0         0             2015         December   \n",
       "\n",
       "   ArrivalDateWeekNumber  ArrivalDateDayOfMonth  StaysInWeekendNights  \\\n",
       "0                     53                     30                     1   \n",
       "1                      8                     23                     0   \n",
       "2                     38                     16                     2   \n",
       "3                     22                     27                     0   \n",
       "4                     49                      3                     0   \n",
       "\n",
       "   StaysInWeekNights  Adults  Children  ...  TotalOfSpecialRequests  \\\n",
       "0                  2       2         0  ...                       0   \n",
       "1                  2       3         0  ...                       0   \n",
       "2                  5       2         0  ...                       0   \n",
       "3                  1       2         0  ...                       2   \n",
       "4                  1       2         0  ...                       1   \n",
       "\n",
       "   Corporate  Direct  TA/TO  Deposit  RoomTypeDifference  Contract  Group  \\\n",
       "0          0       1      0        0                   0         0      0   \n",
       "1          0       0      1        0                   1         0      0   \n",
       "2          0       0      1        0                   0         0      0   \n",
       "3          0       0      1        0                   0         0      0   \n",
       "4          0       1      0        0                   1         0      0   \n",
       "\n",
       "   Transient  Transient-Party  \n",
       "0          1                0  \n",
       "1          0                1  \n",
       "2          1                0  \n",
       "3          1                0  \n",
       "4          1                0  \n",
       "\n",
       "[5 rows x 31 columns]"
      ]
     },
     "execution_count": 91,
     "metadata": {},
     "output_type": "execute_result"
    }
   ],
   "source": [
    "h1.head()"
   ]
  },
  {
   "cell_type": "code",
   "execution_count": 92,
   "metadata": {},
   "outputs": [],
   "source": [
    "# columns to use in model\n",
    "model_cols = h1.drop(['IsCanceled', 'ArrivalDateMonth'], axis=1).columns\n",
    "\n",
    "X_train, X_test, y_train, y_test = train_test_split(\n",
    "    h1[model_cols], \n",
    "    h1['IsCanceled'], \n",
    "    test_size=.6, \n",
    "    random_state=1\n",
    ")"
   ]
  },
  {
   "cell_type": "code",
   "execution_count": 93,
   "metadata": {},
   "outputs": [
    {
     "data": {
      "text/plain": [
       "DecisionTreeClassifier(ccp_alpha=0.01)"
      ]
     },
     "execution_count": 93,
     "metadata": {},
     "output_type": "execute_result"
    }
   ],
   "source": [
    "clf = DecisionTreeClassifier(ccp_alpha=.01)\n",
    "clf.fit(X_train, y_train)"
   ]
  },
  {
   "cell_type": "code",
   "execution_count": 94,
   "metadata": {},
   "outputs": [
    {
     "name": "stdout",
     "output_type": "stream",
     "text": [
      "0.24041666666666667\n",
      "0.7595833333333334 \n",
      "\n"
     ]
    },
    {
     "data": {
      "text/plain": [
       "LeadTime                       22.269560\n",
       "ArrivalDateYear                 0.000000\n",
       "ArrivalDateWeekNumber           0.000000\n",
       "ArrivalDateDayOfMonth           0.000000\n",
       "StaysInWeekendNights            0.000000\n",
       "StaysInWeekNights               0.000000\n",
       "Adults                          0.000000\n",
       "Children                        0.000000\n",
       "Babies                          0.000000\n",
       "Meal                            0.000000\n",
       "IsRepeatedGuest                 0.000000\n",
       "PreviousCancellations           0.000000\n",
       "PreviousBookingsNotCanceled     0.000000\n",
       "BookingChanges                  0.000000\n",
       "Agent                           0.000000\n",
       "Company                         0.000000\n",
       "DaysInWaitingList               0.000000\n",
       "ADR                             0.000000\n",
       "RequiredCarParkingSpaces       16.758988\n",
       "TotalOfSpecialRequests          0.000000\n",
       "Corporate                       0.000000\n",
       "Direct                          0.000000\n",
       "TA/TO                           0.000000\n",
       "Deposit                        35.472721\n",
       "RoomTypeDifference             16.472908\n",
       "Contract                        0.000000\n",
       "Group                           0.000000\n",
       "Transient                       9.025823\n",
       "Transient-Party                 0.000000\n",
       "dtype: float64"
      ]
     },
     "execution_count": 94,
     "metadata": {},
     "output_type": "execute_result"
    }
   ],
   "source": [
    "conf = confusion_matrix(y_test, clf.predict(X_test))\n",
    "print((conf[0, 1]+conf[1, 0])/np.sum(conf))\n",
    "\n",
    "print(clf.score(X_test, y_test), '\\n')\n",
    "\n",
    "pd.Series(clf.feature_importances_*100, index=model_cols)"
   ]
  },
  {
   "cell_type": "code",
   "execution_count": 95,
   "metadata": {},
   "outputs": [
    {
     "data": {
      "image/png": "[encoded data removed]",
      "text/plain": [
       "<Figure size 500x300 with 1 Axes>"
      ]
     },
     "metadata": {
      "needs_background": "light"
     },
     "output_type": "display_data"
    }
   ],
   "source": [
    "figure(figsize=(5, 3), dpi=100)\n",
    "tree.plot_tree(clf, feature_names=clf.feature_names_in_, class_names=['check-out', 'canceled'], fontsize=5);"
   ]
  },
  {
   "cell_type": "markdown",
   "metadata": {},
   "source": [
    "### Random Forest"
   ]
  },
  {
   "cell_type": "code",
   "execution_count": 96,
   "metadata": {},
   "outputs": [
    {
     "name": "stdout",
     "output_type": "stream",
     "text": [
      "0.21916666666666668 \n",
      "\n",
      "0.7808333333333334\n"
     ]
    }
   ],
   "source": [
    "rf = RandomForestClassifier(\n",
    "    n_estimators=250,\n",
    "    min_samples_leaf=30,\n",
    "    random_state=1)\n",
    "\n",
    "rf.fit(X_train, y_train)\n",
    "\n",
    "conf = confusion_matrix(y_test, rf.predict(X_test))\n",
    "print((conf[0, 1]+conf[1, 0])/np.sum(conf), '\\n')\n",
    "\n",
    "print(rf.score(X_test, y_test))"
   ]
  },
  {
   "cell_type": "code",
   "execution_count": 97,
   "metadata": {},
   "outputs": [
    {
     "data": {
      "text/plain": [
       "LeadTime                       20.851115\n",
       "ArrivalDateYear                 1.305938\n",
       "ArrivalDateWeekNumber           2.522638\n",
       "ArrivalDateDayOfMonth           2.929376\n",
       "StaysInWeekendNights            1.280374\n",
       "StaysInWeekNights               4.152110\n",
       "Adults                          0.977942\n",
       "Children                        0.891634\n",
       "Babies                          0.000000\n",
       "Meal                            0.011513\n",
       "IsRepeatedGuest                 0.223919\n",
       "PreviousCancellations           1.743818\n",
       "PreviousBookingsNotCanceled     0.798169\n",
       "BookingChanges                  3.772911\n",
       "Agent                           0.552660\n",
       "Company                         0.164210\n",
       "DaysInWaitingList               0.000000\n",
       "ADR                             4.996643\n",
       "RequiredCarParkingSpaces       10.103733\n",
       "TotalOfSpecialRequests          2.675771\n",
       "Corporate                       0.041969\n",
       "Direct                          1.418008\n",
       "TA/TO                           1.723592\n",
       "Deposit                        16.793404\n",
       "RoomTypeDifference             12.493727\n",
       "Contract                        2.193160\n",
       "Group                           0.000000\n",
       "Transient                       4.675617\n",
       "Transient-Party                 0.706050\n",
       "dtype: float64"
      ]
     },
     "execution_count": 97,
     "metadata": {},
     "output_type": "execute_result"
    }
   ],
   "source": [
    "pd.Series(rf.feature_importances_*100, index=model_cols)"
   ]
  },
  {
   "cell_type": "markdown",
   "metadata": {},
   "source": [
    "----\n",
    "\n",
    "## Models Using H2"
   ]
  },
  {
   "cell_type": "code",
   "execution_count": 98,
   "metadata": {},
   "outputs": [],
   "source": [
    "h2 = pd.read_csv('h2_s.csv')"
   ]
  },
  {
   "cell_type": "code",
   "execution_count": 99,
   "metadata": {},
   "outputs": [],
   "source": [
    "model_cols = h2.drop(['IsCanceled', 'ArrivalDateMonth'], axis=1).columns\n",
    "\n",
    "X_train, X_test, y_train, y_test = train_test_split(\n",
    "    h2[model_cols], \n",
    "    h2['IsCanceled'], \n",
    "    test_size=.6, \n",
    "    random_state=1\n",
    ")"
   ]
  },
  {
   "cell_type": "code",
   "execution_count": 100,
   "metadata": {},
   "outputs": [
    {
     "data": {
      "text/plain": [
       "DecisionTreeClassifier(ccp_alpha=0.01)"
      ]
     },
     "execution_count": 100,
     "metadata": {},
     "output_type": "execute_result"
    }
   ],
   "source": [
    "clf = DecisionTreeClassifier(ccp_alpha=.01)\n",
    "clf.fit(X_train, y_train)"
   ]
  },
  {
   "cell_type": "code",
   "execution_count": 101,
   "metadata": {},
   "outputs": [
    {
     "name": "stdout",
     "output_type": "stream",
     "text": [
      "0.24041666666666667 \n",
      "\n",
      "0.7595833333333334\n"
     ]
    }
   ],
   "source": [
    "conf = confusion_matrix(y_test, clf.predict(X_test))\n",
    "print((conf[0, 1]+conf[1, 0])/np.sum(conf), '\\n')\n",
    "\n",
    "print(clf.score(X_test, y_test))"
   ]
  },
  {
   "cell_type": "code",
   "execution_count": 102,
   "metadata": {},
   "outputs": [
    {
     "data": {
      "text/plain": [
       "LeadTime                        6.553028\n",
       "ArrivalDateYear                 0.000000\n",
       "ArrivalDateWeekNumber           0.000000\n",
       "ArrivalDateDayOfMonth           0.000000\n",
       "StaysInWeekendNights            0.000000\n",
       "StaysInWeekNights               0.000000\n",
       "Adults                          0.000000\n",
       "Children                        0.000000\n",
       "Babies                          0.000000\n",
       "Meal                            0.000000\n",
       "IsRepeatedGuest                 0.000000\n",
       "PreviousCancellations           8.670645\n",
       "PreviousBookingsNotCanceled     0.000000\n",
       "BookingChanges                  0.000000\n",
       "Agent                           0.000000\n",
       "Company                         0.000000\n",
       "DaysInWaitingList               0.000000\n",
       "ADR                             0.000000\n",
       "RequiredCarParkingSpaces        0.000000\n",
       "TotalOfSpecialRequests          7.103075\n",
       "Corporate                       0.000000\n",
       "Direct                          0.000000\n",
       "GDS                             0.000000\n",
       "TA/TO                           0.000000\n",
       "Deposit                        77.673252\n",
       "RoomTypeDifference              0.000000\n",
       "Contract                        0.000000\n",
       "Group                           0.000000\n",
       "Transient                       0.000000\n",
       "Transient-Party                 0.000000\n",
       "dtype: float64"
      ]
     },
     "execution_count": 102,
     "metadata": {},
     "output_type": "execute_result"
    }
   ],
   "source": [
    "pd.Series(clf.feature_importances_*100, index=model_cols)"
   ]
  },
  {
   "cell_type": "code",
   "execution_count": 103,
   "metadata": {},
   "outputs": [
    {
     "data": {
      "image/png": "[encoded data removed]",
      "text/plain": [
       "<Figure size 500x300 with 1 Axes>"
      ]
     },
     "metadata": {
      "needs_background": "light"
     },
     "output_type": "display_data"
    }
   ],
   "source": [
    "figure(figsize=(5, 3), dpi=100)\n",
    "tree.plot_tree(clf, feature_names=clf.feature_names_in_, class_names=['check-out', 'canceled'], fontsize=5);"
   ]
  },
  {
   "cell_type": "code",
   "execution_count": 104,
   "metadata": {},
   "outputs": [
    {
     "data": {
      "text/plain": [
       "RandomForestClassifier(min_samples_leaf=30, n_estimators=250, random_state=1)"
      ]
     },
     "execution_count": 104,
     "metadata": {},
     "output_type": "execute_result"
    }
   ],
   "source": [
    "rf = RandomForestClassifier(\n",
    "    n_estimators=250,\n",
    "    min_samples_leaf=30,\n",
    "    random_state=1)\n",
    "\n",
    "rf.fit(X_train, y_train)"
   ]
  },
  {
   "cell_type": "code",
   "execution_count": 105,
   "metadata": {},
   "outputs": [
    {
     "name": "stdout",
     "output_type": "stream",
     "text": [
      "0.21958333333333332 \n",
      "\n",
      "0.7804166666666666\n"
     ]
    }
   ],
   "source": [
    "conf = confusion_matrix(y_test, rf.predict(X_test))\n",
    "print((conf[0, 1]+conf[1, 0])/np.sum(conf), '\\n')\n",
    "\n",
    "print(rf.score(X_test, y_test))"
   ]
  },
  {
   "cell_type": "code",
   "execution_count": 106,
   "metadata": {},
   "outputs": [
    {
     "data": {
      "text/plain": [
       "LeadTime                       17.958865\n",
       "ArrivalDateYear                 0.799743\n",
       "ArrivalDateWeekNumber           2.215820\n",
       "ArrivalDateDayOfMonth           1.292550\n",
       "StaysInWeekendNights            0.575440\n",
       "StaysInWeekNights               1.589893\n",
       "Adults                          0.492061\n",
       "Children                        0.134551\n",
       "Babies                          0.000000\n",
       "Meal                            0.245907\n",
       "IsRepeatedGuest                 0.000000\n",
       "PreviousCancellations           5.865565\n",
       "PreviousBookingsNotCanceled     0.000000\n",
       "BookingChanges                  2.996419\n",
       "Agent                           0.184868\n",
       "Company                         0.429344\n",
       "DaysInWaitingList               0.263101\n",
       "ADR                             4.316781\n",
       "RequiredCarParkingSpaces        0.022858\n",
       "TotalOfSpecialRequests         15.331938\n",
       "Corporate                       0.114105\n",
       "Direct                          0.424720\n",
       "GDS                             0.000000\n",
       "TA/TO                           1.685862\n",
       "Deposit                        33.874163\n",
       "RoomTypeDifference              4.196536\n",
       "Contract                        0.000000\n",
       "Group                           0.000000\n",
       "Transient                       2.195665\n",
       "Transient-Party                 2.793244\n",
       "dtype: float64"
      ]
     },
     "execution_count": 106,
     "metadata": {},
     "output_type": "execute_result"
    }
   ],
   "source": [
    "pd.Series(rf.feature_importances_*100, index=model_cols)"
   ]
  },
  {
   "cell_type": "code",
   "execution_count": null,
   "metadata": {},
   "outputs": [],
   "source": []
  }
 ],
 "metadata": {
  "kernelspec": {
   "display_name": "Python 3",
   "language": "python",
   "name": "python3"
  },
  "language_info": {
   "codemirror_mode": {
    "name": "ipython",
    "version": 3
   },
   "file_extension": ".py",
   "mimetype": "text/x-python",
   "name": "python",
   "nbconvert_exporter": "python",
   "pygments_lexer": "ipython3",
   "version": "3.7.3"
  }
 },
 "nbformat": 4,
 "nbformat_minor": 4
}
