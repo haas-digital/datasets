{
 "cells": [
  {
   "cell_type": "markdown",
   "metadata": {},
   "source": [
    "# Hotel Booking Demand - Processing"
   ]
  },
  {
   "cell_type": "code",
   "execution_count": 1,
   "metadata": {},
   "outputs": [
    {
     "name": "stderr",
     "output_type": "stream",
     "text": [
      "/Users/split/anaconda3/lib/python3.7/site-packages/pandas/compat/_optional.py:138: UserWarning: Pandas requires version '2.7.0' or newer of 'numexpr' (version '2.6.9' currently installed).\n",
      "  warnings.warn(msg, UserWarning)\n"
     ]
    }
   ],
   "source": [
    "import pandas as pd\n",
    "import numpy as np\n",
    "\n",
    "RANDOM_SEED = 1"
   ]
  },
  {
   "cell_type": "markdown",
   "metadata": {},
   "source": [
    "## Process dataset for H1\n",
    "\n",
    "H1 is a resort hotel."
   ]
  },
  {
   "cell_type": "code",
   "execution_count": 2,
   "metadata": {},
   "outputs": [
    {
     "data": {
      "text/html": [
       "<div>\n",
       "<style scoped>\n",
       "    .dataframe tbody tr th:only-of-type {\n",
       "        vertical-align: middle;\n",
       "    }\n",
       "\n",
       "    .dataframe tbody tr th {\n",
       "        vertical-align: top;\n",
       "    }\n",
       "\n",
       "    .dataframe thead th {\n",
       "        text-align: right;\n",
       "    }\n",
       "</style>\n",
       "<table border=\"1\" class=\"dataframe\">\n",
       "  <thead>\n",
       "    <tr style=\"text-align: right;\">\n",
       "      <th></th>\n",
       "      <th>IsCanceled</th>\n",
       "      <th>LeadTime</th>\n",
       "      <th>ArrivalDateYear</th>\n",
       "      <th>ArrivalDateMonth</th>\n",
       "      <th>ArrivalDateWeekNumber</th>\n",
       "      <th>ArrivalDateDayOfMonth</th>\n",
       "      <th>StaysInWeekendNights</th>\n",
       "      <th>StaysInWeekNights</th>\n",
       "      <th>Adults</th>\n",
       "      <th>Children</th>\n",
       "      <th>...</th>\n",
       "      <th>DepositType</th>\n",
       "      <th>Agent</th>\n",
       "      <th>Company</th>\n",
       "      <th>DaysInWaitingList</th>\n",
       "      <th>CustomerType</th>\n",
       "      <th>ADR</th>\n",
       "      <th>RequiredCarParkingSpaces</th>\n",
       "      <th>TotalOfSpecialRequests</th>\n",
       "      <th>ReservationStatus</th>\n",
       "      <th>ReservationStatusDate</th>\n",
       "    </tr>\n",
       "  </thead>\n",
       "  <tbody>\n",
       "    <tr>\n",
       "      <th>0</th>\n",
       "      <td>0</td>\n",
       "      <td>342</td>\n",
       "      <td>2015</td>\n",
       "      <td>July</td>\n",
       "      <td>27</td>\n",
       "      <td>1</td>\n",
       "      <td>0</td>\n",
       "      <td>0</td>\n",
       "      <td>2</td>\n",
       "      <td>0</td>\n",
       "      <td>...</td>\n",
       "      <td>No Deposit</td>\n",
       "      <td>NULL</td>\n",
       "      <td>NULL</td>\n",
       "      <td>0</td>\n",
       "      <td>Transient</td>\n",
       "      <td>0.0</td>\n",
       "      <td>0</td>\n",
       "      <td>0</td>\n",
       "      <td>Check-Out</td>\n",
       "      <td>2015-07-01</td>\n",
       "    </tr>\n",
       "    <tr>\n",
       "      <th>1</th>\n",
       "      <td>0</td>\n",
       "      <td>737</td>\n",
       "      <td>2015</td>\n",
       "      <td>July</td>\n",
       "      <td>27</td>\n",
       "      <td>1</td>\n",
       "      <td>0</td>\n",
       "      <td>0</td>\n",
       "      <td>2</td>\n",
       "      <td>0</td>\n",
       "      <td>...</td>\n",
       "      <td>No Deposit</td>\n",
       "      <td>NULL</td>\n",
       "      <td>NULL</td>\n",
       "      <td>0</td>\n",
       "      <td>Transient</td>\n",
       "      <td>0.0</td>\n",
       "      <td>0</td>\n",
       "      <td>0</td>\n",
       "      <td>Check-Out</td>\n",
       "      <td>2015-07-01</td>\n",
       "    </tr>\n",
       "    <tr>\n",
       "      <th>2</th>\n",
       "      <td>0</td>\n",
       "      <td>7</td>\n",
       "      <td>2015</td>\n",
       "      <td>July</td>\n",
       "      <td>27</td>\n",
       "      <td>1</td>\n",
       "      <td>0</td>\n",
       "      <td>1</td>\n",
       "      <td>1</td>\n",
       "      <td>0</td>\n",
       "      <td>...</td>\n",
       "      <td>No Deposit</td>\n",
       "      <td>NULL</td>\n",
       "      <td>NULL</td>\n",
       "      <td>0</td>\n",
       "      <td>Transient</td>\n",
       "      <td>75.0</td>\n",
       "      <td>0</td>\n",
       "      <td>0</td>\n",
       "      <td>Check-Out</td>\n",
       "      <td>2015-07-02</td>\n",
       "    </tr>\n",
       "    <tr>\n",
       "      <th>3</th>\n",
       "      <td>0</td>\n",
       "      <td>13</td>\n",
       "      <td>2015</td>\n",
       "      <td>July</td>\n",
       "      <td>27</td>\n",
       "      <td>1</td>\n",
       "      <td>0</td>\n",
       "      <td>1</td>\n",
       "      <td>1</td>\n",
       "      <td>0</td>\n",
       "      <td>...</td>\n",
       "      <td>No Deposit</td>\n",
       "      <td>304</td>\n",
       "      <td>NULL</td>\n",
       "      <td>0</td>\n",
       "      <td>Transient</td>\n",
       "      <td>75.0</td>\n",
       "      <td>0</td>\n",
       "      <td>0</td>\n",
       "      <td>Check-Out</td>\n",
       "      <td>2015-07-02</td>\n",
       "    </tr>\n",
       "    <tr>\n",
       "      <th>4</th>\n",
       "      <td>0</td>\n",
       "      <td>14</td>\n",
       "      <td>2015</td>\n",
       "      <td>July</td>\n",
       "      <td>27</td>\n",
       "      <td>1</td>\n",
       "      <td>0</td>\n",
       "      <td>2</td>\n",
       "      <td>2</td>\n",
       "      <td>0</td>\n",
       "      <td>...</td>\n",
       "      <td>No Deposit</td>\n",
       "      <td>240</td>\n",
       "      <td>NULL</td>\n",
       "      <td>0</td>\n",
       "      <td>Transient</td>\n",
       "      <td>98.0</td>\n",
       "      <td>0</td>\n",
       "      <td>1</td>\n",
       "      <td>Check-Out</td>\n",
       "      <td>2015-07-03</td>\n",
       "    </tr>\n",
       "  </tbody>\n",
       "</table>\n",
       "<p>5 rows × 31 columns</p>\n",
       "</div>"
      ],
      "text/plain": [
       "   IsCanceled  LeadTime  ArrivalDateYear ArrivalDateMonth  \\\n",
       "0           0       342             2015             July   \n",
       "1           0       737             2015             July   \n",
       "2           0         7             2015             July   \n",
       "3           0        13             2015             July   \n",
       "4           0        14             2015             July   \n",
       "\n",
       "   ArrivalDateWeekNumber  ArrivalDateDayOfMonth  StaysInWeekendNights  \\\n",
       "0                     27                      1                     0   \n",
       "1                     27                      1                     0   \n",
       "2                     27                      1                     0   \n",
       "3                     27                      1                     0   \n",
       "4                     27                      1                     0   \n",
       "\n",
       "   StaysInWeekNights  Adults  Children  ...      DepositType        Agent  \\\n",
       "0                  0       2         0  ...  No Deposit              NULL   \n",
       "1                  0       2         0  ...  No Deposit              NULL   \n",
       "2                  1       1         0  ...  No Deposit              NULL   \n",
       "3                  1       1         0  ...  No Deposit               304   \n",
       "4                  2       2         0  ...  No Deposit               240   \n",
       "\n",
       "       Company DaysInWaitingList CustomerType   ADR  RequiredCarParkingSpaces  \\\n",
       "0         NULL                 0    Transient   0.0                         0   \n",
       "1         NULL                 0    Transient   0.0                         0   \n",
       "2         NULL                 0    Transient  75.0                         0   \n",
       "3         NULL                 0    Transient  75.0                         0   \n",
       "4         NULL                 0    Transient  98.0                         0   \n",
       "\n",
       "   TotalOfSpecialRequests ReservationStatus ReservationStatusDate  \n",
       "0                       0         Check-Out            2015-07-01  \n",
       "1                       0         Check-Out            2015-07-01  \n",
       "2                       0         Check-Out            2015-07-02  \n",
       "3                       0         Check-Out            2015-07-02  \n",
       "4                       1         Check-Out            2015-07-03  \n",
       "\n",
       "[5 rows x 31 columns]"
      ]
     },
     "execution_count": 2,
     "metadata": {},
     "output_type": "execute_result"
    }
   ],
   "source": [
    "# modify the file path to `H1.csv` if necessary\n",
    "h1_filepath = './H1.csv'\n",
    "h1 = pd.read_csv(h1_filepath)\n",
    "h1.head()"
   ]
  },
  {
   "cell_type": "code",
   "execution_count": 3,
   "metadata": {},
   "outputs": [
    {
     "data": {
      "text/plain": [
       "Index(['IsCanceled', 'LeadTime', 'ArrivalDateYear', 'ArrivalDateMonth',\n",
       "       'ArrivalDateWeekNumber', 'ArrivalDateDayOfMonth',\n",
       "       'StaysInWeekendNights', 'StaysInWeekNights', 'Adults', 'Children',\n",
       "       'Babies', 'Meal', 'Country', 'MarketSegment', 'DistributionChannel',\n",
       "       'IsRepeatedGuest', 'PreviousCancellations',\n",
       "       'PreviousBookingsNotCanceled', 'ReservedRoomType', 'AssignedRoomType',\n",
       "       'BookingChanges', 'DepositType', 'Agent', 'Company',\n",
       "       'DaysInWaitingList', 'CustomerType', 'ADR', 'RequiredCarParkingSpaces',\n",
       "       'TotalOfSpecialRequests', 'ReservationStatus', 'ReservationStatusDate'],\n",
       "      dtype='object')"
      ]
     },
     "execution_count": 3,
     "metadata": {},
     "output_type": "execute_result"
    }
   ],
   "source": [
    "h1.columns"
   ]
  },
  {
   "cell_type": "markdown",
   "metadata": {},
   "source": [
    "## Verify data types for each column"
   ]
  },
  {
   "cell_type": "code",
   "execution_count": 4,
   "metadata": {},
   "outputs": [
    {
     "data": {
      "text/plain": [
       "{'IsCanceled': numpy.int64,\n",
       " 'LeadTime': numpy.int64,\n",
       " 'ArrivalDateYear': numpy.int64,\n",
       " 'ArrivalDateMonth': str,\n",
       " 'ArrivalDateWeekNumber': numpy.int64,\n",
       " 'ArrivalDateDayOfMonth': numpy.int64,\n",
       " 'StaysInWeekendNights': numpy.int64,\n",
       " 'StaysInWeekNights': numpy.int64,\n",
       " 'Adults': numpy.int64,\n",
       " 'Children': numpy.int64,\n",
       " 'Babies': numpy.int64,\n",
       " 'Meal': str,\n",
       " 'Country': str,\n",
       " 'MarketSegment': str,\n",
       " 'DistributionChannel': str,\n",
       " 'IsRepeatedGuest': numpy.int64,\n",
       " 'PreviousCancellations': numpy.int64,\n",
       " 'PreviousBookingsNotCanceled': numpy.int64,\n",
       " 'ReservedRoomType': str,\n",
       " 'AssignedRoomType': str,\n",
       " 'BookingChanges': numpy.int64,\n",
       " 'DepositType': str,\n",
       " 'Agent': str,\n",
       " 'Company': str,\n",
       " 'DaysInWaitingList': numpy.int64,\n",
       " 'CustomerType': str,\n",
       " 'ADR': numpy.float64,\n",
       " 'RequiredCarParkingSpaces': numpy.int64,\n",
       " 'TotalOfSpecialRequests': numpy.int64,\n",
       " 'ReservationStatus': str,\n",
       " 'ReservationStatusDate': str}"
      ]
     },
     "execution_count": 4,
     "metadata": {},
     "output_type": "execute_result"
    }
   ],
   "source": [
    "types = []\n",
    "for column in h1.columns:\n",
    "    types.append(type(h1[column][0]))\n",
    "    \n",
    "col_type = dict(zip(h1.columns, types))\n",
    "col_type"
   ]
  },
  {
   "cell_type": "code",
   "execution_count": 5,
   "metadata": {},
   "outputs": [
    {
     "data": {
      "text/plain": [
       "array(['C               ', 'A               ', 'D               ',\n",
       "       'E               ', 'G               ', 'F               ',\n",
       "       'H               ', 'L               ', 'P               ',\n",
       "       'B               '], dtype=object)"
      ]
     },
     "execution_count": 5,
     "metadata": {},
     "output_type": "execute_result"
    }
   ],
   "source": [
    "# Check if strings are properly formatted \n",
    "h1['ReservedRoomType'].unique()"
   ]
  },
  {
   "cell_type": "code",
   "execution_count": 6,
   "metadata": {},
   "outputs": [
    {
     "name": "stdout",
     "output_type": "stream",
     "text": [
      "['C' 'A' 'D' 'E' 'G' 'F' 'H' 'L' 'P' 'B']\n"
     ]
    }
   ],
   "source": [
    "# strip trailing whitespace\n",
    "h1['ReservedRoomType'] = h1['ReservedRoomType'].str.strip()\n",
    "print(h1['ReservedRoomType'].unique())\n",
    "\n",
    "# strip whitespace for `AssignedRoomType`\n",
    "h1['AssignedRoomType'] = h1['AssignedRoomType'].str.strip()"
   ]
  },
  {
   "cell_type": "code",
   "execution_count": 7,
   "metadata": {},
   "outputs": [
    {
     "name": "stdout",
     "output_type": "stream",
     "text": [
      "['NULL' '304' '240' '303' '15' '241' '8' '250' '115' '5']\n"
     ]
    }
   ],
   "source": [
    "# strip whitespace for `Agent`\n",
    "h1['Agent'] = h1['Agent'].str.strip()\n",
    "print(h1['Agent'].unique()[:10])\n",
    "\n",
    "# strip whitespace for `Company`, `CustomerType`, `DepositType`\n",
    "h1['Company'] = h1['Company'].str.strip()\n",
    "h1['CustomerType'] = h1['CustomerType'].str.strip()\n",
    "h1['DepositType'] = h1['DepositType'].str.strip()"
   ]
  },
  {
   "cell_type": "markdown",
   "metadata": {},
   "source": [
    "----\n",
    "##### (unused) Converting `ArrivalDateMonth` column from string to integer"
   ]
  },
  {
   "cell_type": "code",
   "execution_count": null,
   "metadata": {},
   "outputs": [],
   "source": [
    "# create month dict\n",
    "month_dict = {'January': 1, 'February': 2, 'March': 3, 'April': 4, 'May': 5, 'June': 6, 'July': 7, 'August': 8, 'September': 9, 'October': 10, 'November': 11, 'December': 12}\n",
    "\n",
    "# define month function to apply to column\n",
    "def month(val):\n",
    "    return month_dict[val]"
   ]
  },
  {
   "cell_type": "code",
   "execution_count": null,
   "metadata": {},
   "outputs": [],
   "source": [
    "# apply month() to column, reassign to dataframe\n",
    "h1['ArrivalDateMonth'] = h1['ArrivalDateMonth'].apply(month)"
   ]
  },
  {
   "cell_type": "markdown",
   "metadata": {},
   "source": [
    "Create new column `ArrivalDate`, which is `ArrivalDateYear`, `ArrivalDateMonth`, `ArrivalDateDayOfMonth` in YYYY-MM-DD format (as in `ReservationStatusDate`)."
   ]
  },
  {
   "cell_type": "code",
   "execution_count": null,
   "metadata": {},
   "outputs": [],
   "source": [
    "def create_arrival_date(s):\n",
    "    return \"{}-{}-{}\".format(s['ArrivalDateYear'], s['ArrivalDateMonth'], s['ArrivalDateDayOfMonth'])\n",
    "\n",
    "arrival_dates = h1.apply(create_arrival_date, axis=1)"
   ]
  },
  {
   "cell_type": "code",
   "execution_count": null,
   "metadata": {},
   "outputs": [],
   "source": [
    "arrival_dates"
   ]
  },
  {
   "cell_type": "markdown",
   "metadata": {},
   "source": [
    "----\n",
    "\n",
    "## Check relationship between `IsCanceled` and `ReservationStatus`"
   ]
  },
  {
   "cell_type": "code",
   "execution_count": 8,
   "metadata": {},
   "outputs": [
    {
     "data": {
      "text/plain": [
       "IsCanceled  ReservationStatus\n",
       "0           Check-Out            28938\n",
       "1           Canceled             10831\n",
       "            No-Show                291\n",
       "dtype: int64"
      ]
     },
     "execution_count": 8,
     "metadata": {},
     "output_type": "execute_result"
    }
   ],
   "source": [
    "h1[['IsCanceled', 'ReservationStatus']].value_counts()"
   ]
  },
  {
   "cell_type": "code",
   "execution_count": 9,
   "metadata": {},
   "outputs": [
    {
     "data": {
      "text/html": [
       "<div>\n",
       "<style scoped>\n",
       "    .dataframe tbody tr th:only-of-type {\n",
       "        vertical-align: middle;\n",
       "    }\n",
       "\n",
       "    .dataframe tbody tr th {\n",
       "        vertical-align: top;\n",
       "    }\n",
       "\n",
       "    .dataframe thead th {\n",
       "        text-align: right;\n",
       "    }\n",
       "</style>\n",
       "<table border=\"1\" class=\"dataframe\">\n",
       "  <thead>\n",
       "    <tr style=\"text-align: right;\">\n",
       "      <th></th>\n",
       "      <th>IsCanceled</th>\n",
       "      <th>LeadTime</th>\n",
       "      <th>ArrivalDateYear</th>\n",
       "      <th>ArrivalDateMonth</th>\n",
       "      <th>ArrivalDateWeekNumber</th>\n",
       "      <th>ArrivalDateDayOfMonth</th>\n",
       "      <th>StaysInWeekendNights</th>\n",
       "      <th>StaysInWeekNights</th>\n",
       "      <th>Adults</th>\n",
       "      <th>Children</th>\n",
       "      <th>...</th>\n",
       "      <th>DepositType</th>\n",
       "      <th>Agent</th>\n",
       "      <th>Company</th>\n",
       "      <th>DaysInWaitingList</th>\n",
       "      <th>CustomerType</th>\n",
       "      <th>ADR</th>\n",
       "      <th>RequiredCarParkingSpaces</th>\n",
       "      <th>TotalOfSpecialRequests</th>\n",
       "      <th>ReservationStatus</th>\n",
       "      <th>ReservationStatusDate</th>\n",
       "    </tr>\n",
       "  </thead>\n",
       "  <tbody>\n",
       "    <tr>\n",
       "      <th>122</th>\n",
       "      <td>1</td>\n",
       "      <td>36</td>\n",
       "      <td>2015</td>\n",
       "      <td>July</td>\n",
       "      <td>27</td>\n",
       "      <td>4</td>\n",
       "      <td>0</td>\n",
       "      <td>1</td>\n",
       "      <td>1</td>\n",
       "      <td>0</td>\n",
       "      <td>...</td>\n",
       "      <td>No Deposit</td>\n",
       "      <td>250</td>\n",
       "      <td>NULL</td>\n",
       "      <td>0</td>\n",
       "      <td>Transient</td>\n",
       "      <td>123.00</td>\n",
       "      <td>0</td>\n",
       "      <td>0</td>\n",
       "      <td>No-Show</td>\n",
       "      <td>2015-07-04</td>\n",
       "    </tr>\n",
       "    <tr>\n",
       "      <th>328</th>\n",
       "      <td>1</td>\n",
       "      <td>55</td>\n",
       "      <td>2015</td>\n",
       "      <td>July</td>\n",
       "      <td>29</td>\n",
       "      <td>12</td>\n",
       "      <td>4</td>\n",
       "      <td>10</td>\n",
       "      <td>2</td>\n",
       "      <td>10</td>\n",
       "      <td>...</td>\n",
       "      <td>No Deposit</td>\n",
       "      <td>8</td>\n",
       "      <td>NULL</td>\n",
       "      <td>0</td>\n",
       "      <td>Contract</td>\n",
       "      <td>133.16</td>\n",
       "      <td>0</td>\n",
       "      <td>1</td>\n",
       "      <td>No-Show</td>\n",
       "      <td>2015-07-12</td>\n",
       "    </tr>\n",
       "    <tr>\n",
       "      <th>343</th>\n",
       "      <td>1</td>\n",
       "      <td>47</td>\n",
       "      <td>2015</td>\n",
       "      <td>July</td>\n",
       "      <td>29</td>\n",
       "      <td>12</td>\n",
       "      <td>2</td>\n",
       "      <td>3</td>\n",
       "      <td>2</td>\n",
       "      <td>0</td>\n",
       "      <td>...</td>\n",
       "      <td>No Deposit</td>\n",
       "      <td>241</td>\n",
       "      <td>NULL</td>\n",
       "      <td>0</td>\n",
       "      <td>Transient</td>\n",
       "      <td>103.80</td>\n",
       "      <td>0</td>\n",
       "      <td>0</td>\n",
       "      <td>No-Show</td>\n",
       "      <td>2015-07-12</td>\n",
       "    </tr>\n",
       "    <tr>\n",
       "      <th>467</th>\n",
       "      <td>1</td>\n",
       "      <td>6</td>\n",
       "      <td>2015</td>\n",
       "      <td>July</td>\n",
       "      <td>29</td>\n",
       "      <td>17</td>\n",
       "      <td>0</td>\n",
       "      <td>2</td>\n",
       "      <td>2</td>\n",
       "      <td>0</td>\n",
       "      <td>...</td>\n",
       "      <td>No Deposit</td>\n",
       "      <td>241</td>\n",
       "      <td>NULL</td>\n",
       "      <td>0</td>\n",
       "      <td>Transient</td>\n",
       "      <td>110.50</td>\n",
       "      <td>0</td>\n",
       "      <td>1</td>\n",
       "      <td>No-Show</td>\n",
       "      <td>2015-07-17</td>\n",
       "    </tr>\n",
       "    <tr>\n",
       "      <th>472</th>\n",
       "      <td>1</td>\n",
       "      <td>3</td>\n",
       "      <td>2015</td>\n",
       "      <td>July</td>\n",
       "      <td>29</td>\n",
       "      <td>17</td>\n",
       "      <td>0</td>\n",
       "      <td>2</td>\n",
       "      <td>1</td>\n",
       "      <td>0</td>\n",
       "      <td>...</td>\n",
       "      <td>No Deposit</td>\n",
       "      <td>5</td>\n",
       "      <td>NULL</td>\n",
       "      <td>0</td>\n",
       "      <td>Transient</td>\n",
       "      <td>107.60</td>\n",
       "      <td>0</td>\n",
       "      <td>0</td>\n",
       "      <td>No-Show</td>\n",
       "      <td>2015-07-17</td>\n",
       "    </tr>\n",
       "    <tr>\n",
       "      <th>...</th>\n",
       "      <td>...</td>\n",
       "      <td>...</td>\n",
       "      <td>...</td>\n",
       "      <td>...</td>\n",
       "      <td>...</td>\n",
       "      <td>...</td>\n",
       "      <td>...</td>\n",
       "      <td>...</td>\n",
       "      <td>...</td>\n",
       "      <td>...</td>\n",
       "      <td>...</td>\n",
       "      <td>...</td>\n",
       "      <td>...</td>\n",
       "      <td>...</td>\n",
       "      <td>...</td>\n",
       "      <td>...</td>\n",
       "      <td>...</td>\n",
       "      <td>...</td>\n",
       "      <td>...</td>\n",
       "      <td>...</td>\n",
       "      <td>...</td>\n",
       "    </tr>\n",
       "    <tr>\n",
       "      <th>28550</th>\n",
       "      <td>1</td>\n",
       "      <td>10</td>\n",
       "      <td>2016</td>\n",
       "      <td>October</td>\n",
       "      <td>41</td>\n",
       "      <td>8</td>\n",
       "      <td>0</td>\n",
       "      <td>0</td>\n",
       "      <td>2</td>\n",
       "      <td>0</td>\n",
       "      <td>...</td>\n",
       "      <td>No Deposit</td>\n",
       "      <td>NULL</td>\n",
       "      <td>405</td>\n",
       "      <td>0</td>\n",
       "      <td>Transient-Party</td>\n",
       "      <td>0.00</td>\n",
       "      <td>0</td>\n",
       "      <td>1</td>\n",
       "      <td>No-Show</td>\n",
       "      <td>2016-10-08</td>\n",
       "    </tr>\n",
       "    <tr>\n",
       "      <th>29537</th>\n",
       "      <td>1</td>\n",
       "      <td>1</td>\n",
       "      <td>2016</td>\n",
       "      <td>October</td>\n",
       "      <td>45</td>\n",
       "      <td>30</td>\n",
       "      <td>1</td>\n",
       "      <td>0</td>\n",
       "      <td>2</td>\n",
       "      <td>0</td>\n",
       "      <td>...</td>\n",
       "      <td>No Deposit</td>\n",
       "      <td>NULL</td>\n",
       "      <td>NULL</td>\n",
       "      <td>0</td>\n",
       "      <td>Transient</td>\n",
       "      <td>55.00</td>\n",
       "      <td>0</td>\n",
       "      <td>0</td>\n",
       "      <td>No-Show</td>\n",
       "      <td>2016-10-30</td>\n",
       "    </tr>\n",
       "    <tr>\n",
       "      <th>29694</th>\n",
       "      <td>1</td>\n",
       "      <td>3</td>\n",
       "      <td>2017</td>\n",
       "      <td>January</td>\n",
       "      <td>3</td>\n",
       "      <td>19</td>\n",
       "      <td>0</td>\n",
       "      <td>1</td>\n",
       "      <td>1</td>\n",
       "      <td>0</td>\n",
       "      <td>...</td>\n",
       "      <td>No Deposit</td>\n",
       "      <td>NULL</td>\n",
       "      <td>470</td>\n",
       "      <td>0</td>\n",
       "      <td>Transient</td>\n",
       "      <td>35.00</td>\n",
       "      <td>0</td>\n",
       "      <td>1</td>\n",
       "      <td>No-Show</td>\n",
       "      <td>2017-01-19</td>\n",
       "    </tr>\n",
       "    <tr>\n",
       "      <th>32349</th>\n",
       "      <td>1</td>\n",
       "      <td>0</td>\n",
       "      <td>2017</td>\n",
       "      <td>February</td>\n",
       "      <td>7</td>\n",
       "      <td>17</td>\n",
       "      <td>0</td>\n",
       "      <td>1</td>\n",
       "      <td>1</td>\n",
       "      <td>0</td>\n",
       "      <td>...</td>\n",
       "      <td>No Deposit</td>\n",
       "      <td>NULL</td>\n",
       "      <td>195</td>\n",
       "      <td>0</td>\n",
       "      <td>Transient</td>\n",
       "      <td>35.00</td>\n",
       "      <td>0</td>\n",
       "      <td>0</td>\n",
       "      <td>No-Show</td>\n",
       "      <td>2017-02-17</td>\n",
       "    </tr>\n",
       "    <tr>\n",
       "      <th>36837</th>\n",
       "      <td>1</td>\n",
       "      <td>258</td>\n",
       "      <td>2017</td>\n",
       "      <td>May</td>\n",
       "      <td>22</td>\n",
       "      <td>31</td>\n",
       "      <td>2</td>\n",
       "      <td>4</td>\n",
       "      <td>2</td>\n",
       "      <td>0</td>\n",
       "      <td>...</td>\n",
       "      <td>No Deposit</td>\n",
       "      <td>143</td>\n",
       "      <td>NULL</td>\n",
       "      <td>0</td>\n",
       "      <td>Transient</td>\n",
       "      <td>68.95</td>\n",
       "      <td>0</td>\n",
       "      <td>1</td>\n",
       "      <td>No-Show</td>\n",
       "      <td>2017-05-31</td>\n",
       "    </tr>\n",
       "  </tbody>\n",
       "</table>\n",
       "<p>291 rows × 31 columns</p>\n",
       "</div>"
      ],
      "text/plain": [
       "       IsCanceled  LeadTime  ArrivalDateYear ArrivalDateMonth  \\\n",
       "122             1        36             2015             July   \n",
       "328             1        55             2015             July   \n",
       "343             1        47             2015             July   \n",
       "467             1         6             2015             July   \n",
       "472             1         3             2015             July   \n",
       "...           ...       ...              ...              ...   \n",
       "28550           1        10             2016          October   \n",
       "29537           1         1             2016          October   \n",
       "29694           1         3             2017          January   \n",
       "32349           1         0             2017         February   \n",
       "36837           1       258             2017              May   \n",
       "\n",
       "       ArrivalDateWeekNumber  ArrivalDateDayOfMonth  StaysInWeekendNights  \\\n",
       "122                       27                      4                     0   \n",
       "328                       29                     12                     4   \n",
       "343                       29                     12                     2   \n",
       "467                       29                     17                     0   \n",
       "472                       29                     17                     0   \n",
       "...                      ...                    ...                   ...   \n",
       "28550                     41                      8                     0   \n",
       "29537                     45                     30                     1   \n",
       "29694                      3                     19                     0   \n",
       "32349                      7                     17                     0   \n",
       "36837                     22                     31                     2   \n",
       "\n",
       "       StaysInWeekNights  Adults  Children  ...  DepositType Agent Company  \\\n",
       "122                    1       1         0  ...   No Deposit   250    NULL   \n",
       "328                   10       2        10  ...   No Deposit     8    NULL   \n",
       "343                    3       2         0  ...   No Deposit   241    NULL   \n",
       "467                    2       2         0  ...   No Deposit   241    NULL   \n",
       "472                    2       1         0  ...   No Deposit     5    NULL   \n",
       "...                  ...     ...       ...  ...          ...   ...     ...   \n",
       "28550                  0       2         0  ...   No Deposit  NULL     405   \n",
       "29537                  0       2         0  ...   No Deposit  NULL    NULL   \n",
       "29694                  1       1         0  ...   No Deposit  NULL     470   \n",
       "32349                  1       1         0  ...   No Deposit  NULL     195   \n",
       "36837                  4       2         0  ...   No Deposit   143    NULL   \n",
       "\n",
       "      DaysInWaitingList     CustomerType     ADR  RequiredCarParkingSpaces  \\\n",
       "122                   0        Transient  123.00                         0   \n",
       "328                   0         Contract  133.16                         0   \n",
       "343                   0        Transient  103.80                         0   \n",
       "467                   0        Transient  110.50                         0   \n",
       "472                   0        Transient  107.60                         0   \n",
       "...                 ...              ...     ...                       ...   \n",
       "28550                 0  Transient-Party    0.00                         0   \n",
       "29537                 0        Transient   55.00                         0   \n",
       "29694                 0        Transient   35.00                         0   \n",
       "32349                 0        Transient   35.00                         0   \n",
       "36837                 0        Transient   68.95                         0   \n",
       "\n",
       "       TotalOfSpecialRequests ReservationStatus ReservationStatusDate  \n",
       "122                         0           No-Show            2015-07-04  \n",
       "328                         1           No-Show            2015-07-12  \n",
       "343                         0           No-Show            2015-07-12  \n",
       "467                         1           No-Show            2015-07-17  \n",
       "472                         0           No-Show            2015-07-17  \n",
       "...                       ...               ...                   ...  \n",
       "28550                       1           No-Show            2016-10-08  \n",
       "29537                       0           No-Show            2016-10-30  \n",
       "29694                       1           No-Show            2017-01-19  \n",
       "32349                       0           No-Show            2017-02-17  \n",
       "36837                       1           No-Show            2017-05-31  \n",
       "\n",
       "[291 rows x 31 columns]"
      ]
     },
     "execution_count": 9,
     "metadata": {},
     "output_type": "execute_result"
    }
   ],
   "source": [
    "h1[(h1['IsCanceled']==1) & (h1['ReservationStatus'] =='No-Show')]"
   ]
  },
  {
   "cell_type": "code",
   "execution_count": 10,
   "metadata": {},
   "outputs": [
    {
     "data": {
      "text/plain": [
       "0.007264103844233649"
      ]
     },
     "execution_count": 10,
     "metadata": {},
     "output_type": "execute_result"
    }
   ],
   "source": [
    "291 / h1.shape[0]"
   ]
  },
  {
   "cell_type": "markdown",
   "metadata": {},
   "source": [
    "### Removing No-Shows\n",
    "\n",
    "Because less than 1% of customers fail to show up in H1, no-shows will be removed from the dataset."
   ]
  },
  {
   "cell_type": "code",
   "execution_count": 11,
   "metadata": {},
   "outputs": [],
   "source": [
    "h1 = h1[h1['ReservationStatus'] !='No-Show']"
   ]
  },
  {
   "cell_type": "markdown",
   "metadata": {},
   "source": [
    "## Remove `Country` column"
   ]
  },
  {
   "cell_type": "code",
   "execution_count": 12,
   "metadata": {},
   "outputs": [],
   "source": [
    "h1 = h1.drop('Country', axis=1)"
   ]
  },
  {
   "cell_type": "markdown",
   "metadata": {},
   "source": [
    "## Examine columns related to travel agencies, tour operators, booking channels \n",
    "\n",
    "A **hotel distribution channel** can be any method or platform by which your hotel sells its rooms. Examples include online travel agents, booking engines (website + social media), phone/email/walk-ins, metasearch, global distribution system."
   ]
  },
  {
   "cell_type": "code",
   "execution_count": 13,
   "metadata": {},
   "outputs": [
    {
     "data": {
      "text/plain": [
       "TA/TO        28740\n",
       "Direct        7798\n",
       "Corporate     3230\n",
       "Undefined        1\n",
       "Name: DistributionChannel, dtype: int64"
      ]
     },
     "execution_count": 13,
     "metadata": {},
     "output_type": "execute_result"
    }
   ],
   "source": [
    "h1['DistributionChannel'].value_counts()"
   ]
  },
  {
   "cell_type": "code",
   "execution_count": 14,
   "metadata": {},
   "outputs": [],
   "source": [
    "# Remove rows where `DistributionChannel` is \"Undefined\" \n",
    "h1 = h1[h1['DistributionChannel'] != 'Undefined']"
   ]
  },
  {
   "cell_type": "code",
   "execution_count": 15,
   "metadata": {},
   "outputs": [
    {
     "data": {
      "text/html": [
       "<div>\n",
       "<style scoped>\n",
       "    .dataframe tbody tr th:only-of-type {\n",
       "        vertical-align: middle;\n",
       "    }\n",
       "\n",
       "    .dataframe tbody tr th {\n",
       "        vertical-align: top;\n",
       "    }\n",
       "\n",
       "    .dataframe thead th {\n",
       "        text-align: right;\n",
       "    }\n",
       "</style>\n",
       "<table border=\"1\" class=\"dataframe\">\n",
       "  <thead>\n",
       "    <tr style=\"text-align: right;\">\n",
       "      <th></th>\n",
       "      <th>MarketSegment</th>\n",
       "      <th>DepositType</th>\n",
       "      <th>Agent</th>\n",
       "      <th>Company</th>\n",
       "      <th>CustomerType</th>\n",
       "    </tr>\n",
       "  </thead>\n",
       "  <tbody>\n",
       "    <tr>\n",
       "      <th>0</th>\n",
       "      <td>Direct</td>\n",
       "      <td>No Deposit</td>\n",
       "      <td>NULL</td>\n",
       "      <td>NULL</td>\n",
       "      <td>Transient</td>\n",
       "    </tr>\n",
       "    <tr>\n",
       "      <th>1</th>\n",
       "      <td>Direct</td>\n",
       "      <td>No Deposit</td>\n",
       "      <td>NULL</td>\n",
       "      <td>NULL</td>\n",
       "      <td>Transient</td>\n",
       "    </tr>\n",
       "    <tr>\n",
       "      <th>2</th>\n",
       "      <td>Direct</td>\n",
       "      <td>No Deposit</td>\n",
       "      <td>NULL</td>\n",
       "      <td>NULL</td>\n",
       "      <td>Transient</td>\n",
       "    </tr>\n",
       "    <tr>\n",
       "      <th>3</th>\n",
       "      <td>Corporate</td>\n",
       "      <td>No Deposit</td>\n",
       "      <td>304</td>\n",
       "      <td>NULL</td>\n",
       "      <td>Transient</td>\n",
       "    </tr>\n",
       "    <tr>\n",
       "      <th>4</th>\n",
       "      <td>Online TA</td>\n",
       "      <td>No Deposit</td>\n",
       "      <td>240</td>\n",
       "      <td>NULL</td>\n",
       "      <td>Transient</td>\n",
       "    </tr>\n",
       "  </tbody>\n",
       "</table>\n",
       "</div>"
      ],
      "text/plain": [
       "  MarketSegment DepositType Agent Company CustomerType\n",
       "0        Direct  No Deposit  NULL    NULL    Transient\n",
       "1        Direct  No Deposit  NULL    NULL    Transient\n",
       "2        Direct  No Deposit  NULL    NULL    Transient\n",
       "3     Corporate  No Deposit   304    NULL    Transient\n",
       "4     Online TA  No Deposit   240    NULL    Transient"
      ]
     },
     "execution_count": 15,
     "metadata": {},
     "output_type": "execute_result"
    }
   ],
   "source": [
    "h1ta = h1[['MarketSegment', 'DepositType', 'Agent', 'Company', 'CustomerType']]\n",
    "h1ta.head()"
   ]
  },
  {
   "cell_type": "code",
   "execution_count": 16,
   "metadata": {},
   "outputs": [
    {
     "name": "stdout",
     "output_type": "stream",
     "text": [
      "236\n"
     ]
    },
    {
     "data": {
      "text/plain": [
       "NULL    36700\n",
       "223       777\n",
       "281       135\n",
       "154       133\n",
       "405        97\n",
       "        ...  \n",
       "401         1\n",
       "377         1\n",
       "109         1\n",
       "365         1\n",
       "410         1\n",
       "Name: Company, Length: 236, dtype: int64"
      ]
     },
     "execution_count": 16,
     "metadata": {},
     "output_type": "execute_result"
    }
   ],
   "source": [
    "print(len(h1ta['Company'].unique()))\n",
    "\n",
    "h1ta['Company'].value_counts()"
   ]
  },
  {
   "cell_type": "code",
   "execution_count": 17,
   "metadata": {},
   "outputs": [
    {
     "name": "stdout",
     "output_type": "stream",
     "text": [
      "186\n"
     ]
    },
    {
     "data": {
      "text/plain": [
       "240     13804\n",
       "NULL     8134\n",
       "250      2837\n",
       "241      1714\n",
       "40        996\n",
       "        ...  \n",
       "406         1\n",
       "333         1\n",
       "431         1\n",
       "433         1\n",
       "187         1\n",
       "Name: Agent, Length: 186, dtype: int64"
      ]
     },
     "execution_count": 17,
     "metadata": {},
     "output_type": "execute_result"
    }
   ],
   "source": [
    "print(len(h1ta['Agent'].unique()))\n",
    "\n",
    "h1ta['Agent'].value_counts()"
   ]
  },
  {
   "cell_type": "markdown",
   "metadata": {},
   "source": [
    "Since company and agent are categorical variables and some agencies/companies appear a few times throughout the dataset, these two variables  can be converted to binary - 1 if it was booked through an agency/company, 0 if not. \n",
    "\n",
    "Additional note: in each dataset, agent/company is \"incomplete\" (i.e. we see company #410 but only 236 unique companies are present in H1) since each dataset is compiled from a database -- companies that don't appear in H1 can appear in H2, vice versa (the same applies for `agent`)."
   ]
  },
  {
   "cell_type": "code",
   "execution_count": 18,
   "metadata": {},
   "outputs": [],
   "source": [
    "h1['Agent'] = np.where(h1['Agent']=='NULL', 0, 1)\n",
    "h1['Company'] =  np.where(h1['Company']=='NULL', 0, 1)"
   ]
  },
  {
   "cell_type": "code",
   "execution_count": 19,
   "metadata": {},
   "outputs": [],
   "source": [
    "# one-hot-encoding `DistributionChannel`, dropping original column along with `MarketSegment`\n",
    "h1 = h1.join(pd.get_dummies(h1['DistributionChannel']))\n",
    "h1 = h1.drop(columns=['DistributionChannel', 'MarketSegment'])"
   ]
  },
  {
   "cell_type": "markdown",
   "metadata": {},
   "source": [
    "## Calculating % of bookings that had a deposit\n",
    "\n",
    "Converting `DepositType` into a binary variable, `Deposit`, and dropping the original column."
   ]
  },
  {
   "cell_type": "code",
   "execution_count": 20,
   "metadata": {},
   "outputs": [
    {
     "data": {
      "text/plain": [
       "0.04631864815932408"
      ]
     },
     "execution_count": 20,
     "metadata": {},
     "output_type": "execute_result"
    }
   ],
   "source": [
    "dt_vc = h1ta['DepositType'].value_counts()\n",
    "(dt_vc[1] + dt_vc[2]) / h1.shape[0]"
   ]
  },
  {
   "cell_type": "code",
   "execution_count": 21,
   "metadata": {},
   "outputs": [
    {
     "data": {
      "text/plain": [
       "IsCanceled  DepositType\n",
       "0           No Deposit     0.722893\n",
       "1           No Deposit     0.230789\n",
       "            Non Refund     0.041038\n",
       "0           Refundable     0.003018\n",
       "            Non Refund     0.001735\n",
       "1           Refundable     0.000528\n",
       "dtype: float64"
      ]
     },
     "execution_count": 21,
     "metadata": {},
     "output_type": "execute_result"
    }
   ],
   "source": [
    "h1[['IsCanceled', 'DepositType']].value_counts(normalize=True)"
   ]
  },
  {
   "cell_type": "code",
   "execution_count": 22,
   "metadata": {},
   "outputs": [
    {
     "data": {
      "text/plain": [
       "DepositType  Agent\n",
       "No Deposit   1        0.764409\n",
       "             0        0.189273\n",
       "Non Refund   1        0.030301\n",
       "             0        0.012472\n",
       "Refundable   0        0.002791\n",
       "             1        0.000754\n",
       "dtype: float64"
      ]
     },
     "execution_count": 22,
     "metadata": {},
     "output_type": "execute_result"
    }
   ],
   "source": [
    "h1[['DepositType', 'Agent']].value_counts(normalize=True)"
   ]
  },
  {
   "cell_type": "code",
   "execution_count": 23,
   "metadata": {},
   "outputs": [
    {
     "data": {
      "text/plain": [
       "DepositType  Company\n",
       "No Deposit   0          0.882141\n",
       "             1          0.071540\n",
       "Non Refund   0          0.039479\n",
       "             1          0.003294\n",
       "Refundable   1          0.002313\n",
       "             0          0.001232\n",
       "dtype: float64"
      ]
     },
     "execution_count": 23,
     "metadata": {},
     "output_type": "execute_result"
    }
   ],
   "source": [
    "h1[['DepositType', 'Company']].value_counts(normalize=True)"
   ]
  },
  {
   "cell_type": "code",
   "execution_count": 24,
   "metadata": {},
   "outputs": [],
   "source": [
    "deposit_ = {\n",
    "    'No Deposit': 0,\n",
    "    'Non Refund': 1, \n",
    "    'Refundable': 1\n",
    "}\n",
    "\n",
    "def encode_deposit_type(entry):\n",
    "    return deposit_[entry]\n",
    "\n",
    "h1['Deposit'] = h1['DepositType'].str.strip().apply(encode_deposit_type)\n",
    "h1 = h1.drop(columns=['DepositType'])"
   ]
  },
  {
   "cell_type": "markdown",
   "metadata": {},
   "source": [
    "----\n",
    "##   Encode `Meal` column\n",
    "\n",
    "- Undefined/SC – no meal package;\n",
    "- BB – Bed & Breakfast;\n",
    "- HB – Half board (breakfast and one other meal – usually dinner);\n",
    "- FB – Full board (breakfast, lunch and dinner)\n",
    "\n",
    "Convert to binary variable: 1 if there is a meal package (BB, HB, FB), 0 otherwise"
   ]
  },
  {
   "cell_type": "code",
   "execution_count": 25,
   "metadata": {},
   "outputs": [
    {
     "data": {
      "text/plain": [
       "BB           29754\n",
       "HB            8012\n",
       "Undefined     1167\n",
       "FB             749\n",
       "SC              86\n",
       "Name: Meal, dtype: int64"
      ]
     },
     "execution_count": 25,
     "metadata": {},
     "output_type": "execute_result"
    }
   ],
   "source": [
    "h1['Meal'].value_counts()"
   ]
  },
  {
   "cell_type": "code",
   "execution_count": 26,
   "metadata": {},
   "outputs": [],
   "source": [
    "meals = {\n",
    "    'BB': 1,\n",
    "    'HB': 1,\n",
    "    'FB': 1,\n",
    "    'SC': 0,\n",
    "    'Undefined': 0\n",
    "}\n",
    "\n",
    "def encode_meals(s):\n",
    "    return meals[s]\n",
    "\n",
    "h1['Meal'] = h1['Meal'].str.strip().apply(encode_meals)"
   ]
  },
  {
   "cell_type": "markdown",
   "metadata": {},
   "source": [
    "----\n",
    "## Creating new variable based on room assignment\n",
    "\n",
    "`AssignedRoomType` and `ReservedRoomType` are encoded for anonymity. It may be helpful to look at the types of rooms, if requested but not assigned (and also the other way around), that will cause people to cancel their bookings. With this in mind, we can combine these two columns to create binary variable - whether the assigned room is different from the reserved room.\n",
    "\n",
    "Note: According to the metadata, customers may request to change their room type (under `BookingChanges`), but we cannot tell if the room type differences is due to overbooking or by request because the room types are coded."
   ]
  },
  {
   "cell_type": "code",
   "execution_count": 27,
   "metadata": {},
   "outputs": [
    {
     "data": {
      "text/html": [
       "<div>\n",
       "<style scoped>\n",
       "    .dataframe tbody tr th:only-of-type {\n",
       "        vertical-align: middle;\n",
       "    }\n",
       "\n",
       "    .dataframe tbody tr th {\n",
       "        vertical-align: top;\n",
       "    }\n",
       "\n",
       "    .dataframe thead th {\n",
       "        text-align: right;\n",
       "    }\n",
       "</style>\n",
       "<table border=\"1\" class=\"dataframe\">\n",
       "  <thead>\n",
       "    <tr style=\"text-align: right;\">\n",
       "      <th></th>\n",
       "      <th>AssignedRoomType</th>\n",
       "      <th>ReservedRoomType</th>\n",
       "    </tr>\n",
       "  </thead>\n",
       "  <tbody>\n",
       "    <tr>\n",
       "      <th>0</th>\n",
       "      <td>C</td>\n",
       "      <td>C</td>\n",
       "    </tr>\n",
       "    <tr>\n",
       "      <th>1</th>\n",
       "      <td>C</td>\n",
       "      <td>C</td>\n",
       "    </tr>\n",
       "    <tr>\n",
       "      <th>2</th>\n",
       "      <td>C</td>\n",
       "      <td>A</td>\n",
       "    </tr>\n",
       "    <tr>\n",
       "      <th>3</th>\n",
       "      <td>A</td>\n",
       "      <td>A</td>\n",
       "    </tr>\n",
       "    <tr>\n",
       "      <th>4</th>\n",
       "      <td>A</td>\n",
       "      <td>A</td>\n",
       "    </tr>\n",
       "    <tr>\n",
       "      <th>...</th>\n",
       "      <td>...</td>\n",
       "      <td>...</td>\n",
       "    </tr>\n",
       "    <tr>\n",
       "      <th>40055</th>\n",
       "      <td>A</td>\n",
       "      <td>A</td>\n",
       "    </tr>\n",
       "    <tr>\n",
       "      <th>40056</th>\n",
       "      <td>E</td>\n",
       "      <td>E</td>\n",
       "    </tr>\n",
       "    <tr>\n",
       "      <th>40057</th>\n",
       "      <td>E</td>\n",
       "      <td>E</td>\n",
       "    </tr>\n",
       "    <tr>\n",
       "      <th>40058</th>\n",
       "      <td>D</td>\n",
       "      <td>D</td>\n",
       "    </tr>\n",
       "    <tr>\n",
       "      <th>40059</th>\n",
       "      <td>A</td>\n",
       "      <td>A</td>\n",
       "    </tr>\n",
       "  </tbody>\n",
       "</table>\n",
       "<p>39768 rows × 2 columns</p>\n",
       "</div>"
      ],
      "text/plain": [
       "      AssignedRoomType ReservedRoomType\n",
       "0                    C                C\n",
       "1                    C                C\n",
       "2                    C                A\n",
       "3                    A                A\n",
       "4                    A                A\n",
       "...                ...              ...\n",
       "40055                A                A\n",
       "40056                E                E\n",
       "40057                E                E\n",
       "40058                D                D\n",
       "40059                A                A\n",
       "\n",
       "[39768 rows x 2 columns]"
      ]
     },
     "execution_count": 27,
     "metadata": {},
     "output_type": "execute_result"
    }
   ],
   "source": [
    "h1[['AssignedRoomType', 'ReservedRoomType']]"
   ]
  },
  {
   "cell_type": "code",
   "execution_count": 28,
   "metadata": {},
   "outputs": [],
   "source": [
    "h1['RoomTypeDifference'] = np.where(h1['AssignedRoomType'] == h1['ReservedRoomType'], 0, 1)\n",
    "\n",
    "# Drop `AssignedRoomType` and `ReservedRoomType`\n",
    "h1 = h1.drop(columns=['AssignedRoomType', 'ReservedRoomType'])"
   ]
  },
  {
   "cell_type": "markdown",
   "metadata": {},
   "source": [
    "-----"
   ]
  },
  {
   "cell_type": "code",
   "execution_count": 29,
   "metadata": {},
   "outputs": [],
   "source": [
    "# one-hot-encode `CustomerType`, drop original column\n",
    "h1 = h1.join(pd.get_dummies(h1['CustomerType']))\n",
    "h1 = h1.drop(columns=['CustomerType'])"
   ]
  },
  {
   "cell_type": "code",
   "execution_count": 30,
   "metadata": {},
   "outputs": [],
   "source": [
    "# Drop `ReservationStatus` -- an exact copy of `IsCanceled` in string vs. binary\n",
    "# (drop the status date together)\n",
    "h1 = h1.drop(columns=['ReservationStatus', 'ReservationStatusDate'])"
   ]
  },
  {
   "cell_type": "code",
   "execution_count": 31,
   "metadata": {},
   "outputs": [],
   "source": [
    "# check for any NaNs\n",
    "for i in h1.columns:\n",
    "    if any(h1[i][h1[i].isna()]):\n",
    "           print(i)"
   ]
  },
  {
   "cell_type": "markdown",
   "metadata": {},
   "source": [
    "### Truncating dataset size \n",
    "\n",
    "Since the dataset has almost 40000 rows, random sampling will be performed to reduce the size. `n` can be modified below."
   ]
  },
  {
   "cell_type": "code",
   "execution_count": 32,
   "metadata": {},
   "outputs": [],
   "source": [
    "n = 4000\n",
    "\n",
    "h1 = h1.sample(n, random_state=RANDOM_SEED)"
   ]
  },
  {
   "cell_type": "code",
   "execution_count": 33,
   "metadata": {},
   "outputs": [
    {
     "name": "stdout",
     "output_type": "stream",
     "text": [
      "(4000, 31)\n"
     ]
    },
    {
     "data": {
      "text/plain": [
       "Index(['IsCanceled', 'LeadTime', 'ArrivalDateYear', 'ArrivalDateMonth',\n",
       "       'ArrivalDateWeekNumber', 'ArrivalDateDayOfMonth',\n",
       "       'StaysInWeekendNights', 'StaysInWeekNights', 'Adults', 'Children',\n",
       "       'Babies', 'Meal', 'IsRepeatedGuest', 'PreviousCancellations',\n",
       "       'PreviousBookingsNotCanceled', 'BookingChanges', 'Agent', 'Company',\n",
       "       'DaysInWaitingList', 'ADR', 'RequiredCarParkingSpaces',\n",
       "       'TotalOfSpecialRequests', 'Corporate', 'Direct', 'TA/TO', 'Deposit',\n",
       "       'RoomTypeDifference', 'Contract', 'Group', 'Transient',\n",
       "       'Transient-Party'],\n",
       "      dtype='object')"
      ]
     },
     "execution_count": 33,
     "metadata": {},
     "output_type": "execute_result"
    }
   ],
   "source": [
    "print(h1.shape)\n",
    "h1.columns"
   ]
  },
  {
   "cell_type": "code",
   "execution_count": 34,
   "metadata": {},
   "outputs": [],
   "source": [
    "# Save to csv\n",
    "h1.to_csv('h1_s.csv', index=False)"
   ]
  },
  {
   "cell_type": "markdown",
   "metadata": {},
   "source": [
    "------\n",
    "\n",
    "# Processing for H2\n",
    "\n",
    "Performing the exact same methods on H1, but this time on H2, a city hotel."
   ]
  },
  {
   "cell_type": "code",
   "execution_count": 35,
   "metadata": {},
   "outputs": [
    {
     "data": {
      "text/html": [
       "<div>\n",
       "<style scoped>\n",
       "    .dataframe tbody tr th:only-of-type {\n",
       "        vertical-align: middle;\n",
       "    }\n",
       "\n",
       "    .dataframe tbody tr th {\n",
       "        vertical-align: top;\n",
       "    }\n",
       "\n",
       "    .dataframe thead th {\n",
       "        text-align: right;\n",
       "    }\n",
       "</style>\n",
       "<table border=\"1\" class=\"dataframe\">\n",
       "  <thead>\n",
       "    <tr style=\"text-align: right;\">\n",
       "      <th></th>\n",
       "      <th>IsCanceled</th>\n",
       "      <th>LeadTime</th>\n",
       "      <th>ArrivalDateYear</th>\n",
       "      <th>ArrivalDateMonth</th>\n",
       "      <th>ArrivalDateWeekNumber</th>\n",
       "      <th>ArrivalDateDayOfMonth</th>\n",
       "      <th>StaysInWeekendNights</th>\n",
       "      <th>StaysInWeekNights</th>\n",
       "      <th>Adults</th>\n",
       "      <th>Children</th>\n",
       "      <th>...</th>\n",
       "      <th>DepositType</th>\n",
       "      <th>Agent</th>\n",
       "      <th>Company</th>\n",
       "      <th>DaysInWaitingList</th>\n",
       "      <th>CustomerType</th>\n",
       "      <th>ADR</th>\n",
       "      <th>RequiredCarParkingSpaces</th>\n",
       "      <th>TotalOfSpecialRequests</th>\n",
       "      <th>ReservationStatus</th>\n",
       "      <th>ReservationStatusDate</th>\n",
       "    </tr>\n",
       "  </thead>\n",
       "  <tbody>\n",
       "    <tr>\n",
       "      <th>0</th>\n",
       "      <td>0</td>\n",
       "      <td>6</td>\n",
       "      <td>2015</td>\n",
       "      <td>July</td>\n",
       "      <td>27</td>\n",
       "      <td>1</td>\n",
       "      <td>0</td>\n",
       "      <td>2</td>\n",
       "      <td>1</td>\n",
       "      <td>0.0</td>\n",
       "      <td>...</td>\n",
       "      <td>No Deposit</td>\n",
       "      <td>6</td>\n",
       "      <td>NULL</td>\n",
       "      <td>0</td>\n",
       "      <td>Transient</td>\n",
       "      <td>0.0</td>\n",
       "      <td>0</td>\n",
       "      <td>0</td>\n",
       "      <td>Check-Out</td>\n",
       "      <td>2015-07-03</td>\n",
       "    </tr>\n",
       "    <tr>\n",
       "      <th>1</th>\n",
       "      <td>1</td>\n",
       "      <td>88</td>\n",
       "      <td>2015</td>\n",
       "      <td>July</td>\n",
       "      <td>27</td>\n",
       "      <td>1</td>\n",
       "      <td>0</td>\n",
       "      <td>4</td>\n",
       "      <td>2</td>\n",
       "      <td>0.0</td>\n",
       "      <td>...</td>\n",
       "      <td>No Deposit</td>\n",
       "      <td>9</td>\n",
       "      <td>NULL</td>\n",
       "      <td>0</td>\n",
       "      <td>Transient</td>\n",
       "      <td>76.5</td>\n",
       "      <td>0</td>\n",
       "      <td>1</td>\n",
       "      <td>Canceled</td>\n",
       "      <td>2015-07-01</td>\n",
       "    </tr>\n",
       "    <tr>\n",
       "      <th>2</th>\n",
       "      <td>1</td>\n",
       "      <td>65</td>\n",
       "      <td>2015</td>\n",
       "      <td>July</td>\n",
       "      <td>27</td>\n",
       "      <td>1</td>\n",
       "      <td>0</td>\n",
       "      <td>4</td>\n",
       "      <td>1</td>\n",
       "      <td>0.0</td>\n",
       "      <td>...</td>\n",
       "      <td>No Deposit</td>\n",
       "      <td>9</td>\n",
       "      <td>NULL</td>\n",
       "      <td>0</td>\n",
       "      <td>Transient</td>\n",
       "      <td>68.0</td>\n",
       "      <td>0</td>\n",
       "      <td>1</td>\n",
       "      <td>Canceled</td>\n",
       "      <td>2015-04-30</td>\n",
       "    </tr>\n",
       "    <tr>\n",
       "      <th>3</th>\n",
       "      <td>1</td>\n",
       "      <td>92</td>\n",
       "      <td>2015</td>\n",
       "      <td>July</td>\n",
       "      <td>27</td>\n",
       "      <td>1</td>\n",
       "      <td>2</td>\n",
       "      <td>4</td>\n",
       "      <td>2</td>\n",
       "      <td>0.0</td>\n",
       "      <td>...</td>\n",
       "      <td>No Deposit</td>\n",
       "      <td>9</td>\n",
       "      <td>NULL</td>\n",
       "      <td>0</td>\n",
       "      <td>Transient</td>\n",
       "      <td>76.5</td>\n",
       "      <td>0</td>\n",
       "      <td>2</td>\n",
       "      <td>Canceled</td>\n",
       "      <td>2015-06-23</td>\n",
       "    </tr>\n",
       "    <tr>\n",
       "      <th>4</th>\n",
       "      <td>1</td>\n",
       "      <td>100</td>\n",
       "      <td>2015</td>\n",
       "      <td>July</td>\n",
       "      <td>27</td>\n",
       "      <td>2</td>\n",
       "      <td>0</td>\n",
       "      <td>2</td>\n",
       "      <td>2</td>\n",
       "      <td>0.0</td>\n",
       "      <td>...</td>\n",
       "      <td>No Deposit</td>\n",
       "      <td>9</td>\n",
       "      <td>NULL</td>\n",
       "      <td>0</td>\n",
       "      <td>Transient</td>\n",
       "      <td>76.5</td>\n",
       "      <td>0</td>\n",
       "      <td>1</td>\n",
       "      <td>Canceled</td>\n",
       "      <td>2015-04-02</td>\n",
       "    </tr>\n",
       "  </tbody>\n",
       "</table>\n",
       "<p>5 rows × 31 columns</p>\n",
       "</div>"
      ],
      "text/plain": [
       "   IsCanceled  LeadTime  ArrivalDateYear ArrivalDateMonth  \\\n",
       "0           0         6             2015             July   \n",
       "1           1        88             2015             July   \n",
       "2           1        65             2015             July   \n",
       "3           1        92             2015             July   \n",
       "4           1       100             2015             July   \n",
       "\n",
       "   ArrivalDateWeekNumber  ArrivalDateDayOfMonth  StaysInWeekendNights  \\\n",
       "0                     27                      1                     0   \n",
       "1                     27                      1                     0   \n",
       "2                     27                      1                     0   \n",
       "3                     27                      1                     2   \n",
       "4                     27                      2                     0   \n",
       "\n",
       "   StaysInWeekNights  Adults  Children  ...      DepositType        Agent  \\\n",
       "0                  2       1       0.0  ...  No Deposit                 6   \n",
       "1                  4       2       0.0  ...  No Deposit                 9   \n",
       "2                  4       1       0.0  ...  No Deposit                 9   \n",
       "3                  4       2       0.0  ...  No Deposit                 9   \n",
       "4                  2       2       0.0  ...  No Deposit                 9   \n",
       "\n",
       "       Company DaysInWaitingList CustomerType   ADR  RequiredCarParkingSpaces  \\\n",
       "0         NULL                 0    Transient   0.0                         0   \n",
       "1         NULL                 0    Transient  76.5                         0   \n",
       "2         NULL                 0    Transient  68.0                         0   \n",
       "3         NULL                 0    Transient  76.5                         0   \n",
       "4         NULL                 0    Transient  76.5                         0   \n",
       "\n",
       "   TotalOfSpecialRequests ReservationStatus ReservationStatusDate  \n",
       "0                       0         Check-Out            2015-07-03  \n",
       "1                       1          Canceled            2015-07-01  \n",
       "2                       1          Canceled            2015-04-30  \n",
       "3                       2          Canceled            2015-06-23  \n",
       "4                       1          Canceled            2015-04-02  \n",
       "\n",
       "[5 rows x 31 columns]"
      ]
     },
     "execution_count": 35,
     "metadata": {},
     "output_type": "execute_result"
    }
   ],
   "source": [
    "h2_filepath = './H2.csv'\n",
    "h2 = pd.read_csv(h2_filepath)\n",
    "h2.head()"
   ]
  },
  {
   "cell_type": "code",
   "execution_count": 36,
   "metadata": {},
   "outputs": [
    {
     "data": {
      "text/plain": [
       "{'IsCanceled': numpy.int64,\n",
       " 'LeadTime': numpy.int64,\n",
       " 'ArrivalDateYear': numpy.int64,\n",
       " 'ArrivalDateMonth': str,\n",
       " 'ArrivalDateWeekNumber': numpy.int64,\n",
       " 'ArrivalDateDayOfMonth': numpy.int64,\n",
       " 'StaysInWeekendNights': numpy.int64,\n",
       " 'StaysInWeekNights': numpy.int64,\n",
       " 'Adults': numpy.int64,\n",
       " 'Children': numpy.float64,\n",
       " 'Babies': numpy.int64,\n",
       " 'Meal': str,\n",
       " 'Country': str,\n",
       " 'MarketSegment': str,\n",
       " 'DistributionChannel': str,\n",
       " 'IsRepeatedGuest': numpy.int64,\n",
       " 'PreviousCancellations': numpy.int64,\n",
       " 'PreviousBookingsNotCanceled': numpy.int64,\n",
       " 'ReservedRoomType': str,\n",
       " 'AssignedRoomType': str,\n",
       " 'BookingChanges': numpy.int64,\n",
       " 'DepositType': str,\n",
       " 'Agent': str,\n",
       " 'Company': str,\n",
       " 'DaysInWaitingList': numpy.int64,\n",
       " 'CustomerType': str,\n",
       " 'ADR': numpy.float64,\n",
       " 'RequiredCarParkingSpaces': numpy.int64,\n",
       " 'TotalOfSpecialRequests': numpy.int64,\n",
       " 'ReservationStatus': str,\n",
       " 'ReservationStatusDate': str}"
      ]
     },
     "execution_count": 36,
     "metadata": {},
     "output_type": "execute_result"
    }
   ],
   "source": [
    "types = []\n",
    "for column in h2.columns:\n",
    "    types.append(type(h2[column][0]))\n",
    "    \n",
    "col_type = dict(zip(h2.columns, types))\n",
    "col_type"
   ]
  },
  {
   "cell_type": "code",
   "execution_count": 37,
   "metadata": {},
   "outputs": [],
   "source": [
    "# stripping whitespace\n",
    "h2['ReservedRoomType'] = h2['ReservedRoomType'].str.strip()\n",
    "\n",
    "h2['AssignedRoomType'] = h2['AssignedRoomType'].str.strip()\n",
    "\n",
    "h2['Agent'] = h2['Agent'].str.strip()\n",
    "\n",
    "h2['Company'] = h2['Company'].str.strip()\n",
    "\n",
    "h2['CustomerType'] = h2['CustomerType'].str.strip()\n",
    "\n",
    "h2['DepositType'] = h2['DepositType'].str.strip()"
   ]
  },
  {
   "cell_type": "code",
   "execution_count": 38,
   "metadata": {},
   "outputs": [
    {
     "data": {
      "text/plain": [
       "IsCanceled  ReservationStatus\n",
       "0           Check-Out            46228\n",
       "1           Canceled             32186\n",
       "            No-Show                916\n",
       "dtype: int64"
      ]
     },
     "execution_count": 38,
     "metadata": {},
     "output_type": "execute_result"
    }
   ],
   "source": [
    "h2[['IsCanceled', 'ReservationStatus']].value_counts()"
   ]
  },
  {
   "cell_type": "code",
   "execution_count": 39,
   "metadata": {},
   "outputs": [
    {
     "data": {
      "text/plain": [
       "0.011546703643010211"
      ]
     },
     "execution_count": 39,
     "metadata": {},
     "output_type": "execute_result"
    }
   ],
   "source": [
    "916 / h2.shape[0]"
   ]
  },
  {
   "cell_type": "code",
   "execution_count": 40,
   "metadata": {},
   "outputs": [],
   "source": [
    "# dropping no-shows\n",
    "h2 = h2[h2['ReservationStatus'] != 'No-Show']"
   ]
  },
  {
   "cell_type": "code",
   "execution_count": 41,
   "metadata": {},
   "outputs": [],
   "source": [
    "# drop `country`\n",
    "h2 = h2.drop('Country', axis=1)"
   ]
  },
  {
   "cell_type": "code",
   "execution_count": 42,
   "metadata": {},
   "outputs": [],
   "source": [
    "# Remove rows where `DistributionChannel` is \"Undefined\" \n",
    "h2 = h2[h2['DistributionChannel'] != 'Undefined']\n",
    "\n",
    "# convert `agent` and `company` into a binary variable\n",
    "h2['Agent'] = np.where(h2['Agent']=='NULL', 0, 1)\n",
    "h2['Company'] = np.where(h2['Company']=='NULL', 0, 1)\n",
    "\n",
    "# one-hot-encoding `DistributionChannel`, dropping original column along with `MarketSegment`\n",
    "h2 = h2.join(pd.get_dummies(h2['DistributionChannel']))\n",
    "h2 = h2.drop(columns=['DistributionChannel', 'MarketSegment'])"
   ]
  },
  {
   "cell_type": "code",
   "execution_count": 43,
   "metadata": {},
   "outputs": [],
   "source": [
    "# convert `DepositType` into a binary variable\n",
    "h2['Deposit'] = h2['DepositType'].str.strip().apply(encode_deposit_type)\n",
    "h2 = h2.drop(columns=['DepositType'])"
   ]
  },
  {
   "cell_type": "code",
   "execution_count": 44,
   "metadata": {},
   "outputs": [],
   "source": [
    "# convert `meal` into a binary variable using previously defined function\n",
    "h2['Meal'] = h2['Meal'].str.strip().apply(encode_meals)"
   ]
  },
  {
   "cell_type": "code",
   "execution_count": 45,
   "metadata": {},
   "outputs": [],
   "source": [
    "# create binary variable if assigned and reserved room type is different\n",
    "h2['RoomTypeDifference'] = np.where(h2['AssignedRoomType'] == h2['ReservedRoomType'], 0, 1)\n",
    "\n",
    "h2 = h2.drop(columns=['AssignedRoomType', 'ReservedRoomType'])"
   ]
  },
  {
   "cell_type": "code",
   "execution_count": 46,
   "metadata": {},
   "outputs": [],
   "source": [
    "# one-hot-encode `CustomerType`\n",
    "h2 = h2.join(pd.get_dummies(h2['CustomerType']))\n",
    "\n",
    "# Drop `CustomerType`, reservation status\n",
    "h2 = h2.drop(columns=['CustomerType', 'ReservationStatus', 'ReservationStatusDate'])"
   ]
  },
  {
   "cell_type": "code",
   "execution_count": 47,
   "metadata": {},
   "outputs": [],
   "source": [
    "# check for any missing values\n",
    "for i in h2.columns:\n",
    "    if any(h2[i][h2[i].isna()]):\n",
    "           print(i)"
   ]
  },
  {
   "cell_type": "code",
   "execution_count": 48,
   "metadata": {},
   "outputs": [
    {
     "data": {
      "text/plain": [
       "Series([], Name: Children, dtype: float64)"
      ]
     },
     "execution_count": 48,
     "metadata": {},
     "output_type": "execute_result"
    }
   ],
   "source": [
    "h2['Children'][h2['Children'].isna()]"
   ]
  },
  {
   "cell_type": "code",
   "execution_count": 49,
   "metadata": {},
   "outputs": [
    {
     "data": {
      "text/plain": [
       "(78410, 32)"
      ]
     },
     "execution_count": 49,
     "metadata": {},
     "output_type": "execute_result"
    }
   ],
   "source": [
    "h2.shape"
   ]
  },
  {
   "cell_type": "code",
   "execution_count": 50,
   "metadata": {},
   "outputs": [],
   "source": [
    "# since 4 our of ~78.4k records are nan, those rows will be dropped\n",
    "h2 = h2[~(h2['Children'].isna())]"
   ]
  },
  {
   "cell_type": "code",
   "execution_count": 51,
   "metadata": {},
   "outputs": [],
   "source": [
    "# Reduce dataset size by sampling\n",
    "n = 4000\n",
    "\n",
    "h2 = h2.sample(n, random_state=RANDOM_SEED)"
   ]
  },
  {
   "cell_type": "code",
   "execution_count": 52,
   "metadata": {},
   "outputs": [
    {
     "name": "stdout",
     "output_type": "stream",
     "text": [
      "(4000, 32)\n"
     ]
    },
    {
     "data": {
      "text/plain": [
       "Index(['IsCanceled', 'LeadTime', 'ArrivalDateYear', 'ArrivalDateMonth',\n",
       "       'ArrivalDateWeekNumber', 'ArrivalDateDayOfMonth',\n",
       "       'StaysInWeekendNights', 'StaysInWeekNights', 'Adults', 'Children',\n",
       "       'Babies', 'Meal', 'IsRepeatedGuest', 'PreviousCancellations',\n",
       "       'PreviousBookingsNotCanceled', 'BookingChanges', 'Agent', 'Company',\n",
       "       'DaysInWaitingList', 'ADR', 'RequiredCarParkingSpaces',\n",
       "       'TotalOfSpecialRequests', 'Corporate', 'Direct', 'GDS', 'TA/TO',\n",
       "       'Deposit', 'RoomTypeDifference', 'Contract', 'Group', 'Transient',\n",
       "       'Transient-Party'],\n",
       "      dtype='object')"
      ]
     },
     "execution_count": 52,
     "metadata": {},
     "output_type": "execute_result"
    }
   ],
   "source": [
    "print(h2.shape)\n",
    "h2.columns"
   ]
  },
  {
   "cell_type": "code",
   "execution_count": 53,
   "metadata": {},
   "outputs": [],
   "source": [
    "# save to csv\n",
    "h2.to_csv('h2_s.csv', index=False)"
   ]
  },
  {
   "cell_type": "markdown",
   "metadata": {},
   "source": [
    "---"
   ]
  }
 ],
 "metadata": {
  "kernelspec": {
   "display_name": "Python 3",
   "language": "python",
   "name": "python3"
  },
  "language_info": {
   "codemirror_mode": {
    "name": "ipython",
    "version": 3
   },
   "file_extension": ".py",
   "mimetype": "text/x-python",
   "name": "python",
   "nbconvert_exporter": "python",
   "pygments_lexer": "ipython3",
   "version": "3.7.3"
  }
 },
 "nbformat": 4,
 "nbformat_minor": 4
}
